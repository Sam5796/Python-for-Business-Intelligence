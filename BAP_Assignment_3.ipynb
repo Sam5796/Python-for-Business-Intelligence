{
  "nbformat": 4,
  "nbformat_minor": 0,
  "metadata": {
    "kernelspec": {
      "display_name": "Python 3",
      "language": "python",
      "name": "python3"
    },
    "language_info": {
      "codemirror_mode": {
        "name": "ipython",
        "version": 3
      },
      "file_extension": ".py",
      "mimetype": "text/x-python",
      "name": "python",
      "nbconvert_exporter": "python",
      "pygments_lexer": "ipython3",
      "version": "3.7.1"
    },
    "colab": {
      "provenance": []
    }
  },
  "cells": [
    {
      "cell_type": "markdown",
      "metadata": {
        "id": "_XisGIsktsuY"
      },
      "source": [
        "## Business Applications for Python Assignment III\n",
        "### Collections - Lists, Dictionaries, Tuples, and Sets"
      ]
    },
    {
      "cell_type": "markdown",
      "metadata": {
        "id": "NX4RyUJwtsuc"
      },
      "source": [
        "#### Problem 1\n",
        "This problem is about list operations.  Look back at our notes and feel free to research how to perform the following operations.\n",
        "\n",
        "a. Create an empty list.\n",
        "\n",
        "b. Add string element \"Monday\" to the empty list.\n",
        "\n",
        "c. Add string elements \"Wednesday\", \"Thursday\", \"Thursday\", \"Friday\", \"Saturday\", \"Sunday\", \"Monday\" into the list using one line of code.\n",
        "\n",
        "d. Insert the element \"Tuesday\" at the appropriate location in the list so that the days of the week are in order.\n",
        "\n",
        "e. Remove the last item in the list.\n",
        "\n",
        "f. Remove the extra \"Thursday\" from the list. Print the result."
      ]
    },
    {
      "cell_type": "markdown",
      "metadata": {
        "id": "e-Rbo0WRtLtq"
      },
      "source": [
        "The expected output for problem 1 is\n",
        "```\n",
        "[]\n",
        "['Monday']\n",
        "['Monday', 'Wednesday', 'Thursday', 'Thursday', 'Friday', 'Saturday', 'Sunday', 'Monday']\n",
        "['Monday', 'Tuesday', 'Wednesday', 'Thursday', 'Thursday', 'Friday', 'Saturday', 'Sunday', 'Monday']\n",
        "['Monday', 'Tuesday', 'Wednesday', 'Thursday', 'Thursday', 'Friday', 'Saturday', 'Sunday']\n",
        "['Monday', 'Tuesday', 'Wednesday', 'Thursday', 'Friday', 'Saturday', 'Sunday']\n",
        "```"
      ]
    },
    {
      "cell_type": "code",
      "metadata": {
        "id": "x0LD5ERFtsue"
      },
      "source": [
        "# Print the list in each part of the problem\n",
        "\n",
        "def days():\n",
        "    # a. Create an empty. Print the result.\n",
        "    lst=[]\n",
        "    print(lst)\n",
        "\n",
        "    # b. Add string element \"Monday\" to list 'lst'.\n",
        "    lst.append('Monday')\n",
        "    print(lst)\n",
        "\n",
        "    # c. Add string elements \"Wednesday\", \"Thursday\", \"Thursday\", \"Friday\", \"Saturday\", \"Sunday\", \"Monday\" into list 'lst' using one line of code. Print the result.\n",
        "    lst.extend(['Wednesday', 'Thursday', 'Thursday', 'Friday', 'Saturday', 'Sunday', 'Monday'])\n",
        "    print(lst)\n",
        "\n",
        "    # d. Insert the element \"Tuesday\" at the appropriate location in the list so that the days of the week are in order. Print the result.\n",
        "    lst.insert(1,'Tuesday')\n",
        "    print(lst)\n",
        "\n",
        "    # e. Remove the last item in the list. Print the result.\n",
        "    lst.pop()\n",
        "    print(lst)\n",
        "\n",
        "    # f. Remove the extra \"Thursday\" from the list. Print the result.\n",
        "    lst.remove('Thursday')\n",
        "    print(lst)\n",
        "\n"
      ],
      "execution_count": null,
      "outputs": []
    },
    {
      "cell_type": "markdown",
      "source": [
        "Run the function with no argument"
      ],
      "metadata": {
        "id": "65AB4hMfSqR1"
      }
    },
    {
      "cell_type": "code",
      "source": [
        "# Run the function\n",
        "days()"
      ],
      "metadata": {
        "id": "06Na_lWMQzxG",
        "colab": {
          "base_uri": "https://localhost:8080/"
        },
        "outputId": "b935ca1b-c6d1-4e22-ed72-cb6ecd13b8e9"
      },
      "execution_count": null,
      "outputs": [
        {
          "output_type": "stream",
          "name": "stdout",
          "text": [
            "[]\n",
            "['Monday']\n",
            "['Monday', 'Wednesday', 'Thursday', 'Thursday', 'Friday', 'Saturday', 'Sunday', 'Monday']\n",
            "['Monday', 'Tuesday', 'Wednesday', 'Thursday', 'Thursday', 'Friday', 'Saturday', 'Sunday', 'Monday']\n",
            "['Monday', 'Tuesday', 'Wednesday', 'Thursday', 'Thursday', 'Friday', 'Saturday', 'Sunday']\n",
            "['Monday', 'Tuesday', 'Wednesday', 'Thursday', 'Friday', 'Saturday', 'Sunday']\n"
          ]
        }
      ]
    },
    {
      "cell_type": "markdown",
      "source": [
        "Expected Output\n",
        "```\n",
        "[]\n",
        "['Monday']\n",
        "['Monday', 'Wednesday', 'Thursday', 'Thursday', 'Friday', 'Saturday', 'Sunday', 'Monday']\n",
        "['Monday', 'Tuesday', 'Wednesday', 'Thursday', 'Thursday', 'Friday', 'Saturday', 'Sunday', 'Monday']\n",
        "['Monday', 'Tuesday', 'Wednesday', 'Thursday', 'Thursday', 'Friday', 'Saturday', 'Sunday']\n",
        "['Monday', 'Tuesday', 'Wednesday', 'Thursday', 'Friday', 'Saturday', 'Sunday']\n",
        "```"
      ],
      "metadata": {
        "id": "9nbboOejQ436"
      }
    },
    {
      "cell_type": "markdown",
      "metadata": {
        "id": "CbA_Df-qtsul"
      },
      "source": [
        "#### Problem 2\n",
        "This problem is designed to expand our understanding of dictionaries (called, 'objects', in other programming languages). Please demonstrate the following properties of and methods for dictionaries.\n",
        "\n",
        "a. Show how to access the value for a specified key, use June for an example.\n",
        "\n",
        "b. Create and print a list containing all of the keys for the dictionary shown below.\n",
        "\n",
        "c. Create and print a list containing all of the values for the dictionary shown below.\n",
        "\n",
        "d. Demonstrate a method to find how many items are in the dictionary.\n",
        "\n",
        "e. Demonstrate a method to add a new key value pair, \"December\":31, to the dictionary."
      ]
    },
    {
      "cell_type": "markdown",
      "metadata": {
        "id": "opGgXjJ8uYz1"
      },
      "source": [
        "Expected Output\n",
        "```\n",
        "30\n",
        "['January', 'February', 'March', 'April', 'May', 'June', 'July', 'August', 'September', 'October', 'November']\n",
        "[31, 28, 31, 30, 31, 30, 31, 31, 30, 31, 30]\n",
        "11\n",
        "{'January': 31, 'February': 28, 'March': 31, 'April': 30, 'May': 31, 'June': 30, 'July': 31, 'August': 31, 'September': 30, 'October': 31, 'November': 30, 'December': 31}\n",
        "```"
      ]
    },
    {
      "cell_type": "code",
      "metadata": {
        "id": "1qLVl7Jytsun"
      },
      "source": [
        "def months_dict(dct):\n",
        "\n",
        "    # a. Show how to access the value for a specified key, use June for an example. Print the result.\n",
        "    dct['June']\n",
        "    print(dct['June'])\n",
        "\n",
        "    # b. Print all of the keys for the dictionary without using the .keys() method. Store the keys in a list. Print the result.\n",
        "    k=[]\n",
        "    for i in dct:\n",
        "        k.append(i)\n",
        "    print(k)\n",
        "\n",
        "\n",
        "    # c. Print all of the values for the dictionary without using the .values() method. Store the values in a list. Print the result.\n",
        "    v=[]\n",
        "    for i in dct:\n",
        "        v.append(dct[i])\n",
        "    print(v)\n",
        "\n",
        "\n",
        "    # d. Find how many items (key:value pairs) are in the dictionary. Print the result.\n",
        "    print(len(dct))\n",
        "\n",
        "    # e. Add a new key value pair, \"December\":31, to the dictionary. Print the result.\n",
        "    dct['December']=31\n",
        "    print(dct)\n"
      ],
      "execution_count": null,
      "outputs": []
    },
    {
      "cell_type": "markdown",
      "source": [
        "Run the function on some sample values."
      ],
      "metadata": {
        "id": "at-UyrcMSyeF"
      }
    },
    {
      "cell_type": "code",
      "source": [
        "# Test data\n",
        "months = {\n",
        "    'January':31,\n",
        "    'February':28,\n",
        "    'March':31,\n",
        "    'April':30,\n",
        "    'May':31,\n",
        "    'June':30,\n",
        "    'July':31,\n",
        "    'August':31,\n",
        "    'September':30,\n",
        "    'October': 31,\n",
        "    'November':30,\n",
        "}\n",
        "\n",
        "# Run the function\n",
        "months_dict(months)"
      ],
      "metadata": {
        "id": "Of_GHGZFRMrA",
        "colab": {
          "base_uri": "https://localhost:8080/"
        },
        "outputId": "5c3d75c8-063f-442c-f291-5071096c99e7"
      },
      "execution_count": null,
      "outputs": [
        {
          "output_type": "stream",
          "name": "stdout",
          "text": [
            "30\n",
            "['January', 'February', 'March', 'April', 'May', 'June', 'July', 'August', 'September', 'October', 'November']\n",
            "[31, 28, 31, 30, 31, 30, 31, 31, 30, 31, 30]\n",
            "11\n",
            "{'January': 31, 'February': 28, 'March': 31, 'April': 30, 'May': 31, 'June': 30, 'July': 31, 'August': 31, 'September': 30, 'October': 31, 'November': 30, 'December': 31}\n"
          ]
        }
      ]
    },
    {
      "cell_type": "markdown",
      "source": [
        "Expected Output\n",
        "```\n",
        "30\n",
        "['January', 'February', 'March', 'April', 'May', 'June', 'July', 'August', 'September', 'October', 'November']\n",
        "[31, 28, 31, 30, 31, 30, 31, 31, 30, 31, 30]\n",
        "11\n",
        "{'January': 31, 'February': 28, 'March': 31, 'April': 30, 'May': 31, 'June': 30, 'July': 31, 'August': 31, 'September': 30, 'October': 31, 'November': 30, 'December': 31}\n",
        "```"
      ],
      "metadata": {
        "id": "PoZEK-GNRYea"
      }
    },
    {
      "cell_type": "markdown",
      "metadata": {
        "id": "Br9aSjhUtsur"
      },
      "source": [
        "#### Problem 3\n",
        "This problems is about sets and their operations\n",
        "\n",
        "a.  Create an empty set\n",
        "\n",
        "b.  Create a set that contains values 1,2,3,4,5\n",
        "\n",
        "c.  Add the value 6 to the set\n",
        "\n",
        "d.  Add multiple values 7,8,9 to the set\n",
        "\n",
        "e.  Remove the 6 from the set by referencing the value itself.\n",
        "\n",
        "f. Use a comment to explain why it is not possible to discard the 3 from the set by referencing the index.\n"
      ]
    },
    {
      "cell_type": "markdown",
      "metadata": {
        "id": "_S3Dx1-5vP2O"
      },
      "source": [
        "Expected output for problem 3\n",
        "```\n",
        "set() <class 'set'>\n",
        "{1, 2, 3, 4, 5}\n",
        "{1, 2, 3, 4, 5, 6}\n",
        "{1, 2, 3, 4, 5, 6, 7, 8, 9}\n",
        "{1, 2, 3, 4, 5, 7, 8, 9}\n",
        "```"
      ]
    },
    {
      "cell_type": "code",
      "metadata": {
        "id": "P89zOgH5tsut"
      },
      "source": [
        "def set_operations():\n",
        "    # a. Create an empty set, print the set and its data type\n",
        "    s=set()\n",
        "    print(s,type(s))\n",
        "\n",
        "    # b. Create a set that contains values 1,2,3,4,5. Print the result.\n",
        "    s={1,2,3,4,5}\n",
        "    print(s)\n",
        "\n",
        "    # c. Add the value 6 to the set. Print the result.\n",
        "    s.add(6)\n",
        "    print(s)\n",
        "\n",
        "    # d. Add multiple values 7,8,9 using 1 command to the set. Print the result.\n",
        "    s.update([7,8,9])\n",
        "    print(s)\n",
        "\n",
        "    # e. Remove the 6 from the set by referencing the value itself. Print the result.\n",
        "    s.remove(6)\n",
        "    print(s)\n",
        "\n",
        "    # f. Write a comment to explain why it is not possible to discard the 3 from the set by referencing the index.\n",
        "    # it is not possible to discard 3 from the set by referencing the index becuase 'indexing' cannot be applied to a 'set' in python.\n",
        "    # Sets in pyhton are unordered and unindexed."
      ],
      "execution_count": null,
      "outputs": []
    },
    {
      "cell_type": "markdown",
      "source": [
        "Run the function with no argument."
      ],
      "metadata": {
        "id": "cFUZPcX5S5uk"
      }
    },
    {
      "cell_type": "code",
      "source": [
        "# Run the function\n",
        "set_operations()\n"
      ],
      "metadata": {
        "id": "4YqNzk6fRkMt",
        "colab": {
          "base_uri": "https://localhost:8080/"
        },
        "outputId": "09729266-752d-438d-b008-47e69a909fab"
      },
      "execution_count": null,
      "outputs": [
        {
          "output_type": "stream",
          "name": "stdout",
          "text": [
            "set() <class 'set'>\n",
            "{1, 2, 3, 4, 5}\n",
            "{1, 2, 3, 4, 5, 6}\n",
            "{1, 2, 3, 4, 5, 6, 7, 8, 9}\n",
            "{1, 2, 3, 4, 5, 7, 8, 9}\n"
          ]
        }
      ]
    },
    {
      "cell_type": "markdown",
      "source": [
        "Expected Output\n",
        "```\n",
        "set() <class 'set'>\n",
        "{1, 2, 3, 4, 5}\n",
        "{1, 2, 3, 4, 5, 6}\n",
        "{1, 2, 3, 4, 5, 6, 7, 8, 9}\n",
        "{1, 2, 3, 4, 5, 7, 8, 9}\n",
        "```"
      ],
      "metadata": {
        "id": "VQnRw9gbRvrN"
      }
    },
    {
      "cell_type": "markdown",
      "metadata": {
        "id": "34lHUSaytsu6"
      },
      "source": [
        "#### Problem 4\n",
        "Given the following collection of stock symbols, please perform the following:\n",
        "\n",
        "a. Identify the symbol 'DPBE' using indexing. Expected output is\n",
        "```\n",
        "DPBE\n",
        "```\n",
        "\n",
        "b. Write a program to destructure the array so that the final result is:\n",
        "\n",
        "```\n",
        "['TEUCF', 'BBLKF', 'NMM', 'SAIA', 'SALT', 'SB', 'TK', 'NM', 'ERA', 'TCNAF', 'URAL', 'BRSWQ', 'DPBE', 'TOPS', 'GNKWF', 'AIRTW', 'SHIPW']\n",
        "```\n",
        "c.  Write a program to change all of the symbols to lowercase using the .lowere() method.\n",
        "```\n",
        "['teucf', 'bblkf', 'nmm', 'saia', 'salt', 'sb', 'tk', 'nm', 'era', 'tcnaf', 'ural', 'brswq', 'dpbe', 'tops', 'gnkwf', 'airtw', 'shipw']\n",
        "```\n",
        "Research a python function that can do this for you and cite your source.\n",
        "\n"
      ]
    },
    {
      "cell_type": "code",
      "metadata": {
        "id": "7LeWaCjItsu7"
      },
      "source": [
        "def stock_calculations(lst):\n",
        "    # a. Identify the symbol 'DPBE' using indexing. Print the result.\n",
        "    print(lst[2][3])\n",
        "\n",
        "    # b. program to destructure the array. Print the result.\n",
        "    k=[]\n",
        "    for i in lst:\n",
        "        for j in i:\n",
        "            k.append(j)\n",
        "    print(k)\n",
        "\n",
        "    # c. Change all of the symbols to lowercase using the .lower() method. Print the result.\n",
        "    lowercase_lst = [symbol.lower() for symbol in k]\n",
        "    print(lowercase_lst)\n"
      ],
      "execution_count": 24,
      "outputs": []
    },
    {
      "cell_type": "markdown",
      "source": [
        "Run the function on some sample values."
      ],
      "metadata": {
        "id": "1Lnd9JHIS9X-"
      }
    },
    {
      "cell_type": "code",
      "source": [
        "stocks=[\n",
        "        ['TEUCF', 'BBLKF', 'NMM', 'SAIA'],\n",
        "        ['SALT','SB','TK','NM','ERA'],\n",
        "        ['TCNAF','URAL','BRSWQ','DPBE'],\n",
        "        ['TOPS','GNKWF','AIRTW','SHIPW'],\n",
        "      ]\n",
        "\n",
        "stock_calculations(stocks)"
      ],
      "metadata": {
        "id": "Fwkj6iEpR2-m",
        "colab": {
          "base_uri": "https://localhost:8080/"
        },
        "outputId": "cb8cd8ce-578d-4719-89c6-328d5fbe2b66"
      },
      "execution_count": 25,
      "outputs": [
        {
          "output_type": "stream",
          "name": "stdout",
          "text": [
            "DPBE\n",
            "['TEUCF', 'BBLKF', 'NMM', 'SAIA', 'SALT', 'SB', 'TK', 'NM', 'ERA', 'TCNAF', 'URAL', 'BRSWQ', 'DPBE', 'TOPS', 'GNKWF', 'AIRTW', 'SHIPW']\n",
            "['teucf', 'bblkf', 'nmm', 'saia', 'salt', 'sb', 'tk', 'nm', 'era', 'tcnaf', 'ural', 'brswq', 'dpbe', 'tops', 'gnkwf', 'airtw', 'shipw']\n"
          ]
        }
      ]
    },
    {
      "cell_type": "markdown",
      "source": [
        "Expected Output\n",
        "```\n",
        "DPBE\n",
        "['TEUCF', 'BBLKF', 'NMM', 'SAIA', 'SALT', 'SB', 'TK', 'NM', 'ERA', 'TCNAF', 'URAL', 'BRSWQ', 'DPBE', 'TOPS', 'GNKWF', 'AIRTW', 'SHIPW']\n",
        "['teucf', 'bblkf', 'nmm', 'saia', 'salt', 'sb', 'tk', 'nm', 'era', 'tcnaf', 'ural', 'brswq', 'dpbe', 'tops', 'gnkwf', 'airtw', 'shipw']\n",
        "```"
      ],
      "metadata": {
        "id": "fg3sreUuR_Rw"
      }
    },
    {
      "cell_type": "markdown",
      "metadata": {
        "id": "4P31drmQtsvA"
      },
      "source": [
        "#### Problem 5\n",
        "This data set shows a collection of high performing and low performing stocks.  Each stock symbol is associated with a percent change.  \n",
        "```\n",
        "stocks_d={\n",
        "    'TEUCF':6352,\n",
        "    'BBLKF':125,\n",
        "    'NMM':57,\n",
        "    .\n",
        "    .\n",
        "    .\n",
        "```\n",
        "\n",
        "Write a function to calculate the average increase and the average decrease in stock values. **Return** the result as a list. The expected output is\n",
        "```\n",
        "[757, -66]\n",
        "```"
      ]
    },
    {
      "cell_type": "code",
      "metadata": {
        "id": "cNTGex_3tsvC"
      },
      "source": [
        "def avg_stock(data):\n",
        "    from numpy import mean\n",
        "\n",
        "    increases = [value for value in data.values() if value > 0]\n",
        "    decreases = [value for value in data.values() if value < 0]\n",
        "\n",
        "    avg_increase = round(mean(increases)) if increases else 0\n",
        "    avg_decrease = round(mean(decreases)) if decreases else 0\n",
        "\n",
        "    return [avg_increase, avg_decrease]\n",
        "\n",
        "\n"
      ],
      "execution_count": 15,
      "outputs": []
    },
    {
      "cell_type": "markdown",
      "source": [
        "Run the function on some sample values."
      ],
      "metadata": {
        "id": "nuWIV-NfTEtP"
      }
    },
    {
      "cell_type": "code",
      "source": [
        "# Test data\n",
        "sd={\n",
        "    'TEUCF':6352,\n",
        "    'BBLKF':125,\n",
        "    'NMM':57,\n",
        "    'SAIA':53,\n",
        "    'SALT':48,\n",
        "    'SB':46,\n",
        "    'TK':45,\n",
        "    'NM':44,\n",
        "    'ERA':43,\n",
        "    'TCNAF':-83,\n",
        "    'URAL':-83,\n",
        "    'BRSWQ':-80,\n",
        "    'DPBE':-70,\n",
        "    'TOPS':-59,\n",
        "    'GNKWF':-53,\n",
        "    'AIRTW':-51,\n",
        "    'SHIPW':-46\n",
        "         }\n",
        "\n",
        "# Run the function\n",
        "avg_stock(sd)"
      ],
      "metadata": {
        "id": "EjoS_6bESJvz",
        "colab": {
          "base_uri": "https://localhost:8080/"
        },
        "outputId": "d476006e-c451-4c17-b5d3-1d3ce371c785"
      },
      "execution_count": 16,
      "outputs": [
        {
          "output_type": "execute_result",
          "data": {
            "text/plain": [
              "[757, -66]"
            ]
          },
          "metadata": {},
          "execution_count": 16
        }
      ]
    },
    {
      "cell_type": "markdown",
      "source": [
        "Expected Output\n",
        "```\n",
        "[757, -66]\n",
        "```"
      ],
      "metadata": {
        "id": "YJzNx5rmSGZ9"
      }
    },
    {
      "cell_type": "markdown",
      "metadata": {
        "id": "8NRSGVrZtsvL"
      },
      "source": [
        "#### Problem 6\n",
        "Write a program to perform set operations as prompted. After constructing the function, try it using the following sets as arguments,\n",
        "```\n",
        "a={1,2,3,4,5}\n",
        "b={4,5,6,7,8}\n",
        "```\n",
        "use set methods to perform the following operations. Please see this [helpful resource explaining set operations](https://docs.python.org/2/library/sets.html).\n",
        "a. Output the elements in a and b without repetitions. Expected output is    \n",
        "```{1, 2, 3, 4, 5, 6, 7, 8}```\n",
        "\n",
        "b. Output the values that are common to both sets. Expected output is    \n",
        "```{4, 5}```\n",
        "\n",
        "c.  Output the values in set **a** that do not appear in set **b**. Expected output is    \n",
        "```{1, 2, 3}```\n",
        "\n",
        "d.  Output the values in both sets without the common elements 4, 5. Expected output is    \n",
        "```{1, 2, 3, 6, 7, 8}```."
      ]
    },
    {
      "cell_type": "code",
      "metadata": {
        "id": "wON6NrWgtsvM"
      },
      "source": [
        "def partitioning_sets(s1, s2):\n",
        "\n",
        "    # a. Output the elements in s1 and s2 without repetitions. Print the result.\n",
        "    print(s1|s2)\n",
        "\n",
        "\n",
        "    # b. Output the values that are common to both sets. Print the result.\n",
        "    print(s1&s2)\n",
        "\n",
        "\n",
        "    # c. Output the values in set s1 that do not appear in set s2. Print the result.\n",
        "    print(s1-s2)\n",
        "\n",
        "\n",
        "    # d. Output the values in both sets without the common elements 4, 5. Print the result.\n",
        "    print(s1^s2)\n",
        "\n"
      ],
      "execution_count": null,
      "outputs": []
    },
    {
      "cell_type": "markdown",
      "source": [
        "Run the function on some sample values."
      ],
      "metadata": {
        "id": "EvOIEdNwTJn8"
      }
    },
    {
      "cell_type": "code",
      "source": [
        "# Test data\n",
        "a={1,2,3,4,5}\n",
        "b={4,5,6,7,8}\n",
        "\n",
        "# run the function\n",
        "partitioning_sets(a, b)"
      ],
      "metadata": {
        "id": "-ysKHm33TMkc",
        "colab": {
          "base_uri": "https://localhost:8080/",
          "height": 176
        },
        "outputId": "a5b356f2-7160-436b-be8b-13cce208541c"
      },
      "execution_count": 21,
      "outputs": [
        {
          "output_type": "error",
          "ename": "NameError",
          "evalue": "name 'partitioning_sets' is not defined",
          "traceback": [
            "\u001b[0;31m---------------------------------------------------------------------------\u001b[0m",
            "\u001b[0;31mNameError\u001b[0m                                 Traceback (most recent call last)",
            "\u001b[0;32m<ipython-input-21-ae3b8e940c2d>\u001b[0m in \u001b[0;36m<cell line: 0>\u001b[0;34m()\u001b[0m\n\u001b[1;32m      4\u001b[0m \u001b[0;34m\u001b[0m\u001b[0m\n\u001b[1;32m      5\u001b[0m \u001b[0;31m# run the function\u001b[0m\u001b[0;34m\u001b[0m\u001b[0;34m\u001b[0m\u001b[0m\n\u001b[0;32m----> 6\u001b[0;31m \u001b[0mpartitioning_sets\u001b[0m\u001b[0;34m(\u001b[0m\u001b[0ma\u001b[0m\u001b[0;34m,\u001b[0m \u001b[0mb\u001b[0m\u001b[0;34m)\u001b[0m\u001b[0;34m\u001b[0m\u001b[0;34m\u001b[0m\u001b[0m\n\u001b[0m",
            "\u001b[0;31mNameError\u001b[0m: name 'partitioning_sets' is not defined"
          ]
        }
      ]
    },
    {
      "cell_type": "markdown",
      "source": [
        "Expected Output\n",
        "```\n",
        "{1, 2, 3, 4, 5, 6, 7, 8}\n",
        "{4, 5}\n",
        "{1, 2, 3}\n",
        "{1, 2, 3, 6, 7, 8}\n",
        "```"
      ],
      "metadata": {
        "id": "DnFpinqMTXej"
      }
    },
    {
      "cell_type": "markdown",
      "metadata": {
        "id": "M0I9lJWYtsvG"
      },
      "source": [
        "#### Problem 7\n",
        "Let's say we have several observed values for the percent change for each of the stocks in the collection below.  \n",
        "\n",
        "a.  Write a program that replaces the lists of values for each stock with the maximum value (```'TEUCF':[6352,6171,6053]``` would become ```'TEUCF': 6352```) for each stock and another program that does the same thing but for the minimum value. (use the .copy() method to make a copy of the dictionary)\n",
        "\n",
        "Expected result for maximum values:\n",
        "```\n",
        "{'TEUCF': 6352, 'BBLKF': 125, 'NMM': 57, 'SAIA': 53, 'SALT': 49, 'SB': 46, 'TK': 45, 'NM': 44, 'ERA': 43, 'TCNAF': -81, 'URAL': -81, 'BRSWQ': -79, 'DPBE': 68, 'TOPS': -58, 'GNKWF': -52, 'AIRTW': -49, 'SHIPW': -40}\n",
        "```\n",
        "Expected result for minimum values:\n",
        "```\n",
        "{'TEUCF': 6053, 'BBLKF': 109, 'NMM': 50, 'SAIA': 50, 'SALT': 40, 'SB': 39, 'TK': 43, 'NM': 43, 'ERA': 42, 'TCNAF': -83, 'URAL': -83, 'BRSWQ': -81, 'DPBE': -70, 'TOPS': -59, 'GNKWF': -53, 'AIRTW': -51, 'SHIPW': -47}\n",
        "```\n",
        "\n",
        "b.  We would like to check which of these stocks, based on the three values, seems to be the most variable using the following formula: ```abs(pd=((max-min)/min)*100)```\n",
        "\n",
        "If any of the stocks have a pd absolute value greater then 15, record the name of the stock in a list.  For example, for ```'SALT':[40,49,48]``` your program should determine that ```abs(((49-40)/40)*100) = 22.5```, and would add 'SALT' to your list. Expected output is\n",
        "```\n",
        "['SALT', 'SB', 'DPBE']\n",
        "```"
      ]
    },
    {
      "cell_type": "code",
      "metadata": {
        "id": "YxSc3KbFtsvH"
      },
      "source": [
        "def stock_manipulations(d):\n",
        "\n",
        "    # a. Finding max and min\n",
        "    # Create a copy of the dictionary for min calculation\n",
        "    d_copy = {}\n",
        "    for key, value in d.items():\n",
        "        d_copy[key] = value.copy()\n",
        "\n",
        "    # a.i. Maximum of each list\n",
        "    for i in d:\n",
        "        d[i]=max(d[i])\n",
        "    print(d)\n",
        "\n",
        "\n",
        "    # a.ii. Minimum of each list\n",
        "    for i in d_copy:\n",
        "        d_copy[i]=min(d_copy[i])\n",
        "    print(d_copy)\n",
        "\n",
        "    # b. Percent difference\n",
        "    variable_stocks = []\n",
        "    for key, value in d.items():\n",
        "        min_val = d_copy[key]\n",
        "        pd = abs(((value - min_val) / min_val) * 100)\n",
        "        if pd > 15:\n",
        "            variable_stocks.append(key)\n",
        "    print(variable_stocks)\n",
        "\n",
        "\n",
        "    # a.i. Maximum of each list\n",
        "\n",
        "    # a.ii. Minimum of each list\n",
        "\n",
        "\n",
        "\n",
        "    # b. Percent difference\n",
        "\n",
        "\n"
      ],
      "execution_count": 11,
      "outputs": []
    },
    {
      "cell_type": "markdown",
      "source": [
        "Run the function on some sample values."
      ],
      "metadata": {
        "id": "GUAQ4EO1Tbyt"
      }
    },
    {
      "cell_type": "code",
      "source": [
        "# Test data\n",
        "se={\n",
        "    'TEUCF':[6352,6171,6053],\n",
        "    'BBLKF':[109,125,111],\n",
        "    'NMM':[52,50,57],\n",
        "    'SAIA':[52,53,50],\n",
        "    'SALT':[40,49,48],\n",
        "    'SB':[39,46,46],\n",
        "    'TK':[45,43,44],\n",
        "    'NM':[44,44,43],\n",
        "    'ERA':[43,42,43],\n",
        "    'TCNAF':[-83,-81,-83],\n",
        "    'URAL':[-83,-82,-81],\n",
        "    'BRSWQ':[-80,-81,-79],\n",
        "    'DPBE':[68,-70,67],\n",
        "    'TOPS':[-59,-59,-58],\n",
        "    'GNKWF':[-53,-52,-53],\n",
        "    'AIRTW':[-51,-49,-50],\n",
        "    'SHIPW':[-46,-40,-47]\n",
        "         }\n",
        "\n",
        "# Run the function\n",
        "stock_manipulations(se)"
      ],
      "metadata": {
        "id": "ZrntUUEJSZWK",
        "colab": {
          "base_uri": "https://localhost:8080/"
        },
        "outputId": "7b67825b-fad1-40e0-eea7-0033eac7b118"
      },
      "execution_count": 12,
      "outputs": [
        {
          "output_type": "stream",
          "name": "stdout",
          "text": [
            "{'TEUCF': 6352, 'BBLKF': 125, 'NMM': 57, 'SAIA': 53, 'SALT': 49, 'SB': 46, 'TK': 45, 'NM': 44, 'ERA': 43, 'TCNAF': -81, 'URAL': -81, 'BRSWQ': -79, 'DPBE': 68, 'TOPS': -58, 'GNKWF': -52, 'AIRTW': -49, 'SHIPW': -40}\n",
            "{'TEUCF': 6053, 'BBLKF': 109, 'NMM': 50, 'SAIA': 50, 'SALT': 40, 'SB': 39, 'TK': 43, 'NM': 43, 'ERA': 42, 'TCNAF': -83, 'URAL': -83, 'BRSWQ': -81, 'DPBE': -70, 'TOPS': -59, 'GNKWF': -53, 'AIRTW': -51, 'SHIPW': -47}\n",
            "['SALT', 'SB', 'DPBE']\n"
          ]
        }
      ]
    },
    {
      "cell_type": "markdown",
      "source": [
        "Expected Output\n",
        "```\n",
        "{'TEUCF': 6352, 'BBLKF': 125, 'NMM': 57, 'SAIA': 53, 'SALT': 49, 'SB': 46, 'TK': 45, 'NM': 44, 'ERA': 43, 'TCNAF': -81, 'URAL': -81, 'BRSWQ': -79, 'DPBE': 68, 'TOPS': -58, 'GNKWF': -52, 'AIRTW': -49, 'SHIPW': -40}\n",
        "{'TEUCF': 6053, 'BBLKF': 109, 'NMM': 50, 'SAIA': 50, 'SALT': 40, 'SB': 39, 'TK': 43, 'NM': 43, 'ERA': 42, 'TCNAF': -83, 'URAL': -83, 'BRSWQ': -81, 'DPBE': -70, 'TOPS': -59, 'GNKWF': -53, 'AIRTW': -51, 'SHIPW': -47}\n",
        "['SALT', 'SB', 'DPBE']\n",
        "```"
      ],
      "metadata": {
        "id": "HBsi1ZtTSfn5"
      }
    }
  ]
}