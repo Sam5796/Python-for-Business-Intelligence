{
  "nbformat": 4,
  "nbformat_minor": 0,
  "metadata": {
    "colab": {
      "provenance": []
    },
    "kernelspec": {
      "display_name": "Python 3",
      "language": "python",
      "name": "python3"
    },
    "language_info": {
      "codemirror_mode": {
        "name": "ipython",
        "version": 3
      },
      "file_extension": ".py",
      "mimetype": "text/x-python",
      "name": "python",
      "nbconvert_exporter": "python",
      "pygments_lexer": "ipython3",
      "version": "3.7.1"
    }
  },
  "cells": [
    {
      "cell_type": "markdown",
      "metadata": {
        "id": "5zCoCAG7JD6k"
      },
      "source": [
        "# Instructions for Assignment 5\n",
        "The following assignment relies heavily on the content covered in the week 5 notes.  Many of the operations you are asked to do here resemble those we went over in class.  Please make sure to reference lesson 5.1 and especially lesson 5.2 notes to guide you through these exercises.  You will need to examine the page:  https://web.archive.org/web/20211009000648/https://www.marketwatch.com/investing/stock/aapl to understand the structure (tags, classes).  Note that for the sake of consistency, we will use the string version of the html content. This means we will NOT be running a get request to the URL and will not need to make use of the requests library.\n",
        "\n",
        "#### Documentation\n",
        "[beautifulsoup library](https://www.crummy.com/software/BeautifulSoup/bs4/doc/)  "
      ]
    },
    {
      "cell_type": "markdown",
      "metadata": {
        "id": "UqFPN2kzJD6r"
      },
      "source": [
        "This assignment will rely on the following library.  You will need to import them again as part of your functions."
      ]
    },
    {
      "cell_type": "code",
      "metadata": {
        "id": "v10CasKEJD6r"
      },
      "source": [
        "#Web scraping package\n",
        "from bs4 import BeautifulSoup"
      ],
      "execution_count": 1,
      "outputs": []
    },
    {
      "cell_type": "markdown",
      "metadata": {
        "id": "oOUEhRC1JD6t"
      },
      "source": [
        "### Problem 1\n",
        "This problem is all about web-scraping with requests and BeautifulSoup. Parts a - d are missing a few steps. Take some time to fill in the blanks and understand the operations. Part e is left for you to complete and will ask you to combine the operations in parts a - d into one cohesive function.  "
      ]
    },
    {
      "cell_type": "markdown",
      "metadata": {
        "id": "VMygdKXvJD6x"
      },
      "source": [
        "Use the following content to conduct the web-scraping exercises. Run this code block prior to completing the exercises."
      ]
    },
    {
      "cell_type": "code",
      "metadata": {
        "id": "jqYG9ly2JD6x"
      },
      "source": [
        "content=\"\"\"\n",
        "<ul class=\"list list--kv list--col50\">\n",
        "                <li class=\"kv__item\">\n",
        "                    <small class=\"label\">Open</small>\n",
        "                    <span class=\"primary \">$144.03</span>\n",
        "                    <span class=\"secondary no-value\"></span>\n",
        "                </li>\n",
        "                <li class=\"kv__item\">\n",
        "                    <small class=\"label\">Day Range</small>\n",
        "                    <span class=\"primary \">142.56 - 144.18</span>\n",
        "                    <span class=\"secondary no-value\"></span>\n",
        "                </li>\n",
        "                <li class=\"kv__item\">\n",
        "                    <small class=\"label\">52 Week Range</small>\n",
        "                    <span class=\"primary \">107.32 - 157.26</span>\n",
        "                    <span class=\"secondary no-value\"></span>\n",
        "                </li>\n",
        "                <li class=\"kv__item\">\n",
        "                    <small class=\"label\">Market Cap</small>\n",
        "                    <span class=\"primary \">$2.37T</span>\n",
        "                    <span class=\"secondary no-value\"></span>\n",
        "                </li>\n",
        "                <li class=\"kv__item\">\n",
        "                    <small class=\"label\">Shares Outstanding</small>\n",
        "                    <span class=\"primary \">17.34B</span>\n",
        "                    <span class=\"secondary no-value\"></span>\n",
        "                </li>\n",
        "                <li class=\"kv__item\">\n",
        "                    <small class=\"label\">Public Float</small>\n",
        "                    <span class=\"primary \">16.51B</span>\n",
        "                    <span class=\"secondary no-value\"></span>\n",
        "                </li>\n",
        "                <li class=\"kv__item\">\n",
        "                    <small class=\"label\">Beta</small>\n",
        "                    <span class=\"primary \">1.20</span>\n",
        "                    <span class=\"secondary no-value\"></span>\n",
        "                </li>\n",
        "                <li class=\"kv__item\">\n",
        "                    <small class=\"label\">Rev. per Employee</small>\n",
        "                    <span class=\"primary \">$1.865M</span>\n",
        "                    <span class=\"secondary no-value\"></span>\n",
        "                </li>\n",
        "                <li class=\"kv__item\">\n",
        "                    <small class=\"label\">P/E Ratio</small>\n",
        "                    <span class=\"primary \">27.99</span>\n",
        "                    <span class=\"secondary no-value\"></span>\n",
        "                </li>\n",
        "                <li class=\"kv__item\">\n",
        "                    <small class=\"label\">EPS</small>\n",
        "                    <span class=\"primary \">$5.11</span>\n",
        "                    <span class=\"secondary no-value\"></span>\n",
        "                </li>\n",
        "                <li class=\"kv__item\">\n",
        "                    <small class=\"label\">Yield</small>\n",
        "                    <span class=\"primary \">0.62%</span>\n",
        "                    <span class=\"secondary no-value\"></span>\n",
        "                </li>\n",
        "                <li class=\"kv__item\">\n",
        "                    <small class=\"label\">Dividend</small>\n",
        "                    <span class=\"primary \">$0.22</span>\n",
        "                    <span class=\"secondary no-value\"></span>\n",
        "                </li>\n",
        "                <li class=\"kv__item\">\n",
        "                    <small class=\"label\">Ex-Dividend Date</small>\n",
        "                    <span class=\"primary \">Aug 6, 2021</span>\n",
        "                    <span class=\"secondary no-value\"></span>\n",
        "                </li>\n",
        "                <li class=\"kv__item\">\n",
        "                    <small class=\"label\">Short Interest</small>\n",
        "                    <span class=\"primary \">100.93M</span>\n",
        "                    <span class=\"secondary \">09/15/21</span>\n",
        "                </li>\n",
        "                <li class=\"kv__item\">\n",
        "                    <small class=\"label\">% of Float Shorted</small>\n",
        "                    <span class=\"primary \">0.61%</span>\n",
        "                    <span class=\"secondary no-value\"></span>\n",
        "                </li>\n",
        "                <li class=\"kv__item\">\n",
        "                    <small class=\"label\">Average Volume</small>\n",
        "                    <span class=\"primary \">80.12M</span>\n",
        "                    <span class=\"secondary no-value\"></span>\n",
        "                </li>\n",
        "        </ul>\n",
        "\"\"\""
      ],
      "execution_count": 2,
      "outputs": []
    },
    {
      "cell_type": "markdown",
      "metadata": {
        "id": "XBSfisbrKmCp"
      },
      "source": [
        "a.  Referencing the above response, create BeautifulSoup object called \"results_page\" parsed with 'html.parser'."
      ]
    },
    {
      "cell_type": "code",
      "metadata": {
        "colab": {
          "base_uri": "https://localhost:8080/"
        },
        "outputId": "2baea564-b055-41dc-9e8c-cf93e43ad341",
        "id": "VK4V3VxmKmC3"
      },
      "source": [
        "# build the BeautifulSoup object and name it results_page\n",
        "results_page = BeautifulSoup(content,'html.parser')\n",
        "print(type(results_page))"
      ],
      "execution_count": 4,
      "outputs": [
        {
          "output_type": "stream",
          "name": "stdout",
          "text": [
            "<class 'bs4.BeautifulSoup'>\n"
          ]
        }
      ]
    },
    {
      "cell_type": "markdown",
      "metadata": {
        "id": "SYiJju8o6n9I"
      },
      "source": [
        "**Expected Output**       \n",
        "<class 'bs4.BeautifulSoup'>"
      ]
    },
    {
      "cell_type": "markdown",
      "metadata": {
        "id": "cysnKnAuJD6z"
      },
      "source": [
        "b.  On the webpage:  https://web.archive.org/web/20211009000648/https://www.marketwatch.com/investing/stock/aapl, look for the section called \"Key Data\".\n",
        "![key_data](https://drive.google.com/uc?id=1ZMDc-Q000J5fksE28mMfyIJbFQHvlLUe)\n",
        "\n",
        " Inspect the page and verify that the tag/class combination that uniquely identifies each of the items in this table is 'li'/'kv__item'.  Find all elements identified by a tag of 'li' and a class_='kv__item'.  PLEASE NOTE THE **TWO** UNDERSCORES in kv__item."
      ]
    },
    {
      "cell_type": "code",
      "metadata": {
        "colab": {
          "base_uri": "https://localhost:8080/"
        },
        "id": "oiZYqOZVJD60",
        "outputId": "c4f68139-2b54-459e-aab5-107f785612a9"
      },
      "source": [
        "# find all elements with the tag \"li\" and class_=\"kv__item\"\n",
        "key_data = results_page.find_all('li',class_=\"kv__item\")\n",
        "# print the data type for the kv_data object\n",
        "print(type(key_data))"
      ],
      "execution_count": 5,
      "outputs": [
        {
          "output_type": "stream",
          "name": "stdout",
          "text": [
            "<class 'bs4.element.ResultSet'>\n"
          ]
        }
      ]
    },
    {
      "cell_type": "markdown",
      "metadata": {
        "id": "tFLTWhte6th9"
      },
      "source": [
        "**Expected Output**   \n",
        "<class 'bs4.element.ResultSet'>"
      ]
    },
    {
      "cell_type": "markdown",
      "metadata": {
        "id": "e8WxreUnJD62"
      },
      "source": [
        "c. The code to answer the above question should have returned a list.  Print the first item in this list.  You should get:\n",
        "```\n",
        "<li class=\"kv__item\">\n",
        "<small class=\"label\">Open</small>\n",
        "<span class=\"primary\">$144.03</span>\n",
        "<span class=\"secondary no-value\"></span>\n",
        "</li>\n",
        "```"
      ]
    },
    {
      "cell_type": "code",
      "metadata": {
        "colab": {
          "base_uri": "https://localhost:8080/"
        },
        "id": "uMOJymXsJD63",
        "outputId": "af791159-8e4c-44c6-e785-76b8fdd4e474"
      },
      "source": [
        "# print the first element in \"key_data\"\n",
        "print(key_data[0])"
      ],
      "execution_count": 6,
      "outputs": [
        {
          "output_type": "stream",
          "name": "stdout",
          "text": [
            "<li class=\"kv__item\">\n",
            "<small class=\"label\">Open</small>\n",
            "<span class=\"primary\">$144.03</span>\n",
            "<span class=\"secondary no-value\"></span>\n",
            "</li>\n"
          ]
        }
      ]
    },
    {
      "cell_type": "markdown",
      "metadata": {
        "id": "08v4A_je65rM"
      },
      "source": [
        "**Expected Output**   \n",
        "```\n",
        "<li class=\"kv__item\">\n",
        "<small class=\"label\">Open</small>\n",
        "<span class=\"primary\">$144.03</span>\n",
        "<span class=\"secondary no-value\"></span>\n",
        "</li>\n",
        "```"
      ]
    },
    {
      "cell_type": "markdown",
      "metadata": {
        "id": "ELHysHgpJD6-"
      },
      "source": [
        "Extract the label \"Open\" and the value \"$144.03\"\n",
        "\n",
        "![open_price](https://drive.google.com/uc?id=1OLQ3lVUd84dVytXft1K1GPffcb-ejbxq)\n",
        "\n",
        "Note:  values may differ."
      ]
    },
    {
      "cell_type": "code",
      "metadata": {
        "colab": {
          "base_uri": "https://localhost:8080/"
        },
        "id": "2L2gWTa8JD6_",
        "outputId": "edba15ce-8022-4161-fce1-be5c887cfedb"
      },
      "source": [
        "label=key_data[0].find('small', class_=\"label\").get_text()\n",
        "primary_val=key_data[0].find('span',class_=\"primary\").get_text()\n",
        "print(label)\n",
        "print(primary_val)"
      ],
      "execution_count": 8,
      "outputs": [
        {
          "output_type": "stream",
          "name": "stdout",
          "text": [
            "Open\n",
            "$144.03\n"
          ]
        }
      ]
    },
    {
      "cell_type": "markdown",
      "metadata": {
        "id": "heN0M5Ep7A7t"
      },
      "source": [
        "**Expected Output**\n",
        "```\n",
        "Open\n",
        "$144.03\n",
        "```"
      ]
    },
    {
      "cell_type": "markdown",
      "metadata": {
        "id": "80xuZwYuJD7C"
      },
      "source": [
        "d.  We need to be able to extract the text for each of the items in the key_data object.  Write a for loop to extract the label and primary value creating a list of the form [(label, value), (label,value),...]"
      ]
    },
    {
      "cell_type": "code",
      "metadata": {
        "colab": {
          "base_uri": "https://localhost:8080/"
        },
        "id": "jD2yj1IjJD7C",
        "outputId": "8fe59384-7d56-4769-c2a1-f065a6a43537"
      },
      "source": [
        "kd_list=[]\n",
        "for item in key_data:\n",
        "    label=item.find('small', class_='label').get_text()\n",
        "    value=item.find('span',class_=\"primary\").get_text()\n",
        "    kd_list.append((label,value))\n",
        "print(kd_list)"
      ],
      "execution_count": 10,
      "outputs": [
        {
          "output_type": "stream",
          "name": "stdout",
          "text": [
            "[('Open', '$144.03'), ('Day Range', '142.56 - 144.18'), ('52 Week Range', '107.32 - 157.26'), ('Market Cap', '$2.37T'), ('Shares Outstanding', '17.34B'), ('Public Float', '16.51B'), ('Beta', '1.20'), ('Rev. per Employee', '$1.865M'), ('P/E Ratio', '27.99'), ('EPS', '$5.11'), ('Yield', '0.62%'), ('Dividend', '$0.22'), ('Ex-Dividend Date', 'Aug 6, 2021'), ('Short Interest', '100.93M'), ('% of Float Shorted', '0.61%'), ('Average Volume', '80.12M')]\n"
          ]
        }
      ]
    },
    {
      "cell_type": "markdown",
      "metadata": {
        "id": "eziburF57KZF"
      },
      "source": [
        "**Expected Output**\n",
        "```\n",
        "[('Open', '$144.03'), ('Day Range', '142.56 - 144.18'), ('52 Week Range', '107.32 - 157.26'), ('Market Cap', '$2.37T'), ('Shares Outstanding', '17.34B'), ('Public Float', '16.51B'), ('Beta', '1.20'), ('Rev. per Employee', '$1.865M'), ('P/E Ratio', '27.99'), ('EPS', '$5.11'), ('Yield', '0.62%'), ('Dividend', '$0.22'), ('Ex-Dividend Date', 'Aug 6, 2021'), ('Short Interest', '100.93M'), ('% of Float Shorted', '0.61%'), ('Average Volume', '80.12M')]\n",
        "```"
      ]
    },
    {
      "cell_type": "markdown",
      "metadata": {
        "id": "9VFnvb1BJD7E"
      },
      "source": [
        "e.  **BUILD THE FUNCTION Combine all of the above into a function that accepts html source code as an argument and returns the list of (label, value) pairs in the form** Please make sure to define and reference the function parameter so that your program will work correctly with multiple different inputs.\n",
        "    \n",
        "```\n",
        "[('Open', '$144.03'), ('Day Range', '142.56 - 144.18'), ('52 Week Range', '107.32 - 157.26'), ('Market Cap', '$2.37T'), ('Shares Outstanding', '17.34B'), ('Public Float', '16.51B'), ('Beta', '1.20'), ('Rev. per Employee', '$1.865M'), ('P/E Ratio', '27.99'), ('EPS', '$5.11'), ('Yield', '0.62%'), ('Dividend', '$0.22'), ('Ex-Dividend Date', 'Aug 6, 2021'), ('Short Interest', '100.93M'), ('% of Float Shorted', '0.61%'), ('Average Volume', '80.12M')]\n",
        "```.  "
      ]
    },
    {
      "cell_type": "markdown",
      "source": [],
      "metadata": {
        "id": "w8xGKOxDuktz"
      }
    },
    {
      "cell_type": "code",
      "metadata": {
        "id": "tfKTp4ZJJD7E"
      },
      "source": [
        "# Build the function here -- make sure to define a function parameter.\n",
        "def get_key_data(html_source):\n",
        "    from bs4 import BeautifulSoup\n",
        "    results_page = BeautifulSoup(html_source,'html.parser')\n",
        "    key_data = results_page.find_all('li',class_=\"kv__item\")\n",
        "    kd_list=[]\n",
        "    for item in key_data:\n",
        "        label=item.find('small', class_='label').get_text()\n",
        "        value=item.find('span',class_=\"primary\").get_text()\n",
        "        kd_list.append((label,value))\n",
        "    return kd_list\n"
      ],
      "execution_count": 43,
      "outputs": []
    },
    {
      "cell_type": "markdown",
      "metadata": {
        "id": "52mzPWlHJD7H"
      },
      "source": [
        "Run the function"
      ]
    },
    {
      "cell_type": "code",
      "source": [
        "aapl=\"\"\"\n",
        "<ul class=\"list list--kv list--col50\">\n",
        "                <li class=\"kv__item\">\n",
        "                    <small class=\"label\">Open</small>\n",
        "                    <span class=\"primary \">$144.03</span>\n",
        "                    <span class=\"secondary no-value\"></span>\n",
        "                </li>\n",
        "                <li class=\"kv__item\">\n",
        "                    <small class=\"label\">Day Range</small>\n",
        "                    <span class=\"primary \">142.56 - 144.18</span>\n",
        "                    <span class=\"secondary no-value\"></span>\n",
        "                </li>\n",
        "                <li class=\"kv__item\">\n",
        "                    <small class=\"label\">52 Week Range</small>\n",
        "                    <span class=\"primary \">107.32 - 157.26</span>\n",
        "                    <span class=\"secondary no-value\"></span>\n",
        "                </li>\n",
        "                <li class=\"kv__item\">\n",
        "                    <small class=\"label\">Market Cap</small>\n",
        "                    <span class=\"primary \">$2.37T</span>\n",
        "                    <span class=\"secondary no-value\"></span>\n",
        "                </li>\n",
        "                <li class=\"kv__item\">\n",
        "                    <small class=\"label\">Shares Outstanding</small>\n",
        "                    <span class=\"primary \">17.34B</span>\n",
        "                    <span class=\"secondary no-value\"></span>\n",
        "                </li>\n",
        "                <li class=\"kv__item\">\n",
        "                    <small class=\"label\">Public Float</small>\n",
        "                    <span class=\"primary \">16.51B</span>\n",
        "                    <span class=\"secondary no-value\"></span>\n",
        "                </li>\n",
        "                <li class=\"kv__item\">\n",
        "                    <small class=\"label\">Beta</small>\n",
        "                    <span class=\"primary \">1.20</span>\n",
        "                    <span class=\"secondary no-value\"></span>\n",
        "                </li>\n",
        "                <li class=\"kv__item\">\n",
        "                    <small class=\"label\">Rev. per Employee</small>\n",
        "                    <span class=\"primary \">$1.865M</span>\n",
        "                    <span class=\"secondary no-value\"></span>\n",
        "                </li>\n",
        "                <li class=\"kv__item\">\n",
        "                    <small class=\"label\">P/E Ratio</small>\n",
        "                    <span class=\"primary \">27.99</span>\n",
        "                    <span class=\"secondary no-value\"></span>\n",
        "                </li>\n",
        "                <li class=\"kv__item\">\n",
        "                    <small class=\"label\">EPS</small>\n",
        "                    <span class=\"primary \">$5.11</span>\n",
        "                    <span class=\"secondary no-value\"></span>\n",
        "                </li>\n",
        "                <li class=\"kv__item\">\n",
        "                    <small class=\"label\">Yield</small>\n",
        "                    <span class=\"primary \">0.62%</span>\n",
        "                    <span class=\"secondary no-value\"></span>\n",
        "                </li>\n",
        "                <li class=\"kv__item\">\n",
        "                    <small class=\"label\">Dividend</small>\n",
        "                    <span class=\"primary \">$0.22</span>\n",
        "                    <span class=\"secondary no-value\"></span>\n",
        "                </li>\n",
        "                <li class=\"kv__item\">\n",
        "                    <small class=\"label\">Ex-Dividend Date</small>\n",
        "                    <span class=\"primary \">Aug 6, 2021</span>\n",
        "                    <span class=\"secondary no-value\"></span>\n",
        "                </li>\n",
        "                <li class=\"kv__item\">\n",
        "                    <small class=\"label\">Short Interest</small>\n",
        "                    <span class=\"primary \">100.93M</span>\n",
        "                    <span class=\"secondary \">09/15/21</span>\n",
        "                </li>\n",
        "                <li class=\"kv__item\">\n",
        "                    <small class=\"label\">% of Float Shorted</small>\n",
        "                    <span class=\"primary \">0.61%</span>\n",
        "                    <span class=\"secondary no-value\"></span>\n",
        "                </li>\n",
        "                <li class=\"kv__item\">\n",
        "                    <small class=\"label\">Average Volume</small>\n",
        "                    <span class=\"primary \">80.12M</span>\n",
        "                    <span class=\"secondary no-value\"></span>\n",
        "                </li>\n",
        "        </ul>\n",
        "\"\"\""
      ],
      "metadata": {
        "id": "Hgyyjz45A5Ps"
      },
      "execution_count": 44,
      "outputs": []
    },
    {
      "cell_type": "code",
      "metadata": {
        "id": "8CwasIXqJD7H",
        "colab": {
          "base_uri": "https://localhost:8080/"
        },
        "outputId": "ea7f9c6b-d347-4ed9-88ff-89ae1d085259"
      },
      "source": [
        "results_a = get_key_data(aapl)\n",
        "print(results_a)"
      ],
      "execution_count": 45,
      "outputs": [
        {
          "output_type": "stream",
          "name": "stdout",
          "text": [
            "[('Open', '$144.03'), ('Day Range', '142.56 - 144.18'), ('52 Week Range', '107.32 - 157.26'), ('Market Cap', '$2.37T'), ('Shares Outstanding', '17.34B'), ('Public Float', '16.51B'), ('Beta', '1.20'), ('Rev. per Employee', '$1.865M'), ('P/E Ratio', '27.99'), ('EPS', '$5.11'), ('Yield', '0.62%'), ('Dividend', '$0.22'), ('Ex-Dividend Date', 'Aug 6, 2021'), ('Short Interest', '100.93M'), ('% of Float Shorted', '0.61%'), ('Average Volume', '80.12M')]\n"
          ]
        }
      ]
    },
    {
      "cell_type": "markdown",
      "metadata": {
        "id": "DI6imFFf3s5K"
      },
      "source": [
        "Expected Output\n",
        "```\n",
        "[('Open', '$144.03'), ('Day Range', '142.56 - 144.18'), ('52 Week Range', '107.32 - 157.26'), ('Market Cap', '$2.37T'), ('Shares Outstanding', '17.34B'), ('Public Float', '16.51B'), ('Beta', '1.20'), ('Rev. per Employee', '$1.865M'), ('P/E Ratio', '27.99'), ('EPS', '$5.11'), ('Yield', '0.62%'), ('Dividend', '$0.22'), ('Ex-Dividend Date', 'Aug 6, 2021'), ('Short Interest', '100.93M'), ('% of Float Shorted', '0.61%'), ('Average Volume', '80.12M')]\n",
        "```"
      ]
    },
    {
      "cell_type": "code",
      "source": [
        "goog=\"\"\"\n",
        "<ul class=\"list list--kv list--col50\">\n",
        "                <li class=\"kv__item\">\n",
        "                    <small class=\"label\">Open</small>\n",
        "                    <span class=\"primary \">$2,798.12</span>\n",
        "                    <span class=\"secondary no-value\"></span>\n",
        "                </li>\n",
        "                <li class=\"kv__item\">\n",
        "                    <small class=\"label\">Day Range</small>\n",
        "                    <span class=\"primary \">2,788.59 - 2,806.34</span>\n",
        "                    <span class=\"secondary no-value\"></span>\n",
        "                </li>\n",
        "                <li class=\"kv__item\">\n",
        "                    <small class=\"label\">52 Week Range</small>\n",
        "                    <span class=\"primary \">1,489.45 - 2,936.41</span>\n",
        "                    <span class=\"secondary no-value\"></span>\n",
        "                </li>\n",
        "                <li class=\"kv__item\">\n",
        "                    <small class=\"label\">Market Cap</small>\n",
        "                    <span class=\"primary \">$1.86T</span>\n",
        "                    <span class=\"secondary no-value\"></span>\n",
        "                </li>\n",
        "                <li class=\"kv__item\">\n",
        "                    <small class=\"label\">Shares Outstanding</small>\n",
        "                    <span class=\"primary \">320.17M</span>\n",
        "                    <span class=\"secondary no-value\"></span>\n",
        "                </li>\n",
        "                <li class=\"kv__item\">\n",
        "                    <small class=\"label\">Public Float</small>\n",
        "                    <span class=\"primary \">279.85M</span>\n",
        "                    <span class=\"secondary no-value\"></span>\n",
        "                </li>\n",
        "                <li class=\"kv__item\">\n",
        "                    <small class=\"label\">Beta</small>\n",
        "                    <span class=\"primary \">1.08</span>\n",
        "                    <span class=\"secondary no-value\"></span>\n",
        "                </li>\n",
        "                <li class=\"kv__item\">\n",
        "                    <small class=\"label\">Rev. per Employee</small>\n",
        "                    <span class=\"primary \">$1.348M</span>\n",
        "                    <span class=\"secondary no-value\"></span>\n",
        "                </li>\n",
        "                <li class=\"kv__item\">\n",
        "                    <small class=\"label\">P/E Ratio</small>\n",
        "                    <span class=\"primary \">30.39</span>\n",
        "                    <span class=\"secondary no-value\"></span>\n",
        "                </li>\n",
        "                <li class=\"kv__item\">\n",
        "                    <small class=\"label\">EPS</small>\n",
        "                    <span class=\"primary \">$92.24</span>\n",
        "                    <span class=\"secondary no-value\"></span>\n",
        "                </li>\n",
        "                <li class=\"kv__item\">\n",
        "                    <small class=\"label\">Yield</small>\n",
        "                    <span class=\"primary is-na\">N/A</span>\n",
        "                    <span class=\"secondary no-value\"></span>\n",
        "                </li>\n",
        "                <li class=\"kv__item\">\n",
        "                    <small class=\"label\">Dividend</small>\n",
        "                    <span class=\"primary is-na\">N/A</span>\n",
        "                    <span class=\"secondary no-value\"></span>\n",
        "                </li>\n",
        "                <li class=\"kv__item\">\n",
        "                    <small class=\"label\">Ex-Dividend Date</small>\n",
        "                    <span class=\"primary is-na\">N/A</span>\n",
        "                    <span class=\"secondary no-value\"></span>\n",
        "                </li>\n",
        "                <li class=\"kv__item\">\n",
        "                    <small class=\"label\">Short Interest</small>\n",
        "                    <span class=\"primary \">2.64M</span>\n",
        "                    <span class=\"secondary \">09/15/21</span>\n",
        "                </li>\n",
        "                <li class=\"kv__item\">\n",
        "                    <small class=\"label\">% of Float Shorted</small>\n",
        "                    <span class=\"primary \">0.94%</span>\n",
        "                    <span class=\"secondary no-value\"></span>\n",
        "                </li>\n",
        "                <li class=\"kv__item\">\n",
        "                    <small class=\"label\">Average Volume</small>\n",
        "                    <span class=\"primary \">1.05M</span>\n",
        "                    <span class=\"secondary no-value\"></span>\n",
        "                </li>\n",
        "        </ul>\n",
        "\"\"\""
      ],
      "metadata": {
        "id": "rplfdDsSBJ8g"
      },
      "execution_count": 46,
      "outputs": []
    },
    {
      "cell_type": "code",
      "metadata": {
        "id": "XKtkMD8QdEHs",
        "colab": {
          "base_uri": "https://localhost:8080/"
        },
        "outputId": "4af43cd8-0e96-464a-fd36-2d70cea70c85"
      },
      "source": [
        "results_g = get_key_data(goog)\n",
        "print(results_g)"
      ],
      "execution_count": 47,
      "outputs": [
        {
          "output_type": "stream",
          "name": "stdout",
          "text": [
            "[('Open', '$2,798.12'), ('Day Range', '2,788.59 - 2,806.34'), ('52 Week Range', '1,489.45 - 2,936.41'), ('Market Cap', '$1.86T'), ('Shares Outstanding', '320.17M'), ('Public Float', '279.85M'), ('Beta', '1.08'), ('Rev. per Employee', '$1.348M'), ('P/E Ratio', '30.39'), ('EPS', '$92.24'), ('Yield', 'N/A'), ('Dividend', 'N/A'), ('Ex-Dividend Date', 'N/A'), ('Short Interest', '2.64M'), ('% of Float Shorted', '0.94%'), ('Average Volume', '1.05M')]\n"
          ]
        }
      ]
    },
    {
      "cell_type": "markdown",
      "metadata": {
        "id": "9orc1t3H32F0"
      },
      "source": [
        "Expected Output\n",
        "```\n",
        "[('Open', '$2,798.12'), ('Day Range', '2,788.59 - 2,806.34'), ('52 Week Range', '1,489.45 - 2,936.41'), ('Market Cap', '$1.86T'), ('Shares Outstanding', '320.17M'), ('Public Float', '279.85M'), ('Beta', '1.08'), ('Rev. per Employee', '$1.348M'), ('P/E Ratio', '30.39'), ('EPS', '$92.24'), ('Yield', 'N/A'), ('Dividend', 'N/A'), ('Ex-Dividend Date', 'N/A'), ('Short Interest', '2.64M'), ('% of Float Shorted', '0.94%'), ('Average Volume', '1.05M')]\n",
        "```"
      ]
    },
    {
      "cell_type": "code",
      "source": [
        "msft=\"\"\"\n",
        "<ul class=\"list list--kv list--col50\">\n",
        "                <li class=\"kv__item\">\n",
        "                    <small class=\"label\">Open</small>\n",
        "                    <span class=\"primary \">$296.22</span>\n",
        "                    <span class=\"secondary no-value\"></span>\n",
        "                </li>\n",
        "                <li class=\"kv__item\">\n",
        "                    <small class=\"label\">Day Range</small>\n",
        "                    <span class=\"primary \">293.76 - 296.64</span>\n",
        "                    <span class=\"secondary no-value\"></span>\n",
        "                </li>\n",
        "                <li class=\"kv__item\">\n",
        "                    <small class=\"label\">52 Week Range</small>\n",
        "                    <span class=\"primary \">199.62 - 305.84</span>\n",
        "                    <span class=\"secondary no-value\"></span>\n",
        "                </li>\n",
        "                <li class=\"kv__item\">\n",
        "                    <small class=\"label\">Market Cap</small>\n",
        "                    <span class=\"primary \">$2.22T</span>\n",
        "                    <span class=\"secondary no-value\"></span>\n",
        "                </li>\n",
        "                <li class=\"kv__item\">\n",
        "                    <small class=\"label\">Shares Outstanding</small>\n",
        "                    <span class=\"primary \">7.51B</span>\n",
        "                    <span class=\"secondary no-value\"></span>\n",
        "                </li>\n",
        "                <li class=\"kv__item\">\n",
        "                    <small class=\"label\">Public Float</small>\n",
        "                    <span class=\"primary \">7.4B</span>\n",
        "                    <span class=\"secondary no-value\"></span>\n",
        "                </li>\n",
        "                <li class=\"kv__item\">\n",
        "                    <small class=\"label\">Beta</small>\n",
        "                    <span class=\"primary \">1.19</span>\n",
        "                    <span class=\"secondary no-value\"></span>\n",
        "                </li>\n",
        "                <li class=\"kv__item\">\n",
        "                    <small class=\"label\">Rev. per Employee</small>\n",
        "                    <span class=\"primary \">$928.66K</span>\n",
        "                    <span class=\"secondary no-value\"></span>\n",
        "                </li>\n",
        "                <li class=\"kv__item\">\n",
        "                    <small class=\"label\">P/E Ratio</small>\n",
        "                    <span class=\"primary \">36.48</span>\n",
        "                    <span class=\"secondary no-value\"></span>\n",
        "                </li>\n",
        "                <li class=\"kv__item\">\n",
        "                    <small class=\"label\">EPS</small>\n",
        "                    <span class=\"primary \">$8.06</span>\n",
        "                    <span class=\"secondary no-value\"></span>\n",
        "                </li>\n",
        "                <li class=\"kv__item\">\n",
        "                    <small class=\"label\">Yield</small>\n",
        "                    <span class=\"primary \">0.84%</span>\n",
        "                    <span class=\"secondary no-value\"></span>\n",
        "                </li>\n",
        "                <li class=\"kv__item\">\n",
        "                    <small class=\"label\">Dividend</small>\n",
        "                    <span class=\"primary \">$0.62</span>\n",
        "                    <span class=\"secondary no-value\"></span>\n",
        "                </li>\n",
        "                <li class=\"kv__item\">\n",
        "                    <small class=\"label\">Ex-Dividend Date</small>\n",
        "                    <span class=\"primary \">Nov 17, 2021</span>\n",
        "                    <span class=\"secondary no-value\"></span>\n",
        "                </li>\n",
        "                <li class=\"kv__item\">\n",
        "                    <small class=\"label\">Short Interest</small>\n",
        "                    <span class=\"primary \">44.2M</span>\n",
        "                    <span class=\"secondary \">09/15/21</span>\n",
        "                </li>\n",
        "                <li class=\"kv__item\">\n",
        "                    <small class=\"label\">% of Float Shorted</small>\n",
        "                    <span class=\"primary \">0.60%</span>\n",
        "                    <span class=\"secondary no-value\"></span>\n",
        "                </li>\n",
        "                <li class=\"kv__item\">\n",
        "                    <small class=\"label\">Average Volume</small>\n",
        "                    <span class=\"primary \">22.76M</span>\n",
        "                    <span class=\"secondary no-value\"></span>\n",
        "                </li>\n",
        "        </ul>\n",
        "\"\"\""
      ],
      "metadata": {
        "id": "Hh07e4j6CPRb"
      },
      "execution_count": 48,
      "outputs": []
    },
    {
      "cell_type": "code",
      "metadata": {
        "id": "m-yd84vbdWE3",
        "colab": {
          "base_uri": "https://localhost:8080/"
        },
        "outputId": "90fb9e3e-5b9b-40e6-99d9-0017917df8e9"
      },
      "source": [
        "results_m = get_key_data(msft)\n",
        "print(results_m)"
      ],
      "execution_count": 49,
      "outputs": [
        {
          "output_type": "stream",
          "name": "stdout",
          "text": [
            "[('Open', '$296.22'), ('Day Range', '293.76 - 296.64'), ('52 Week Range', '199.62 - 305.84'), ('Market Cap', '$2.22T'), ('Shares Outstanding', '7.51B'), ('Public Float', '7.4B'), ('Beta', '1.19'), ('Rev. per Employee', '$928.66K'), ('P/E Ratio', '36.48'), ('EPS', '$8.06'), ('Yield', '0.84%'), ('Dividend', '$0.62'), ('Ex-Dividend Date', 'Nov 17, 2021'), ('Short Interest', '44.2M'), ('% of Float Shorted', '0.60%'), ('Average Volume', '22.76M')]\n"
          ]
        }
      ]
    },
    {
      "cell_type": "markdown",
      "metadata": {
        "id": "4__rFez03_fr"
      },
      "source": [
        "Expected Output\n",
        "```\n",
        "[('Open', '$296.22'), ('Day Range', '293.76 - 296.64'), ('52 Week Range', '199.62 - 305.84'), ('Market Cap', '$2.22T'), ('Shares Outstanding', '7.51B'), ('Public Float', '7.4B'), ('Beta', '1.19'), ('Rev. per Employee', '$928.66K'), ('P/E Ratio', '36.48'), ('EPS', '$8.06'), ('Yield', '0.84%'), ('Dividend', '$0.62'), ('Ex-Dividend Date', 'Nov 17, 2021'), ('Short Interest', '44.2M'), ('% of Float Shorted', '0.60%'), ('Average Volume', '22.76M')]\n",
        "```"
      ]
    },
    {
      "cell_type": "code",
      "source": [],
      "metadata": {
        "id": "HOCYsqo4ZdY0"
      },
      "execution_count": null,
      "outputs": []
    }
  ]
}