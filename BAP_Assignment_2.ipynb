{
  "nbformat": 4,
  "nbformat_minor": 0,
  "metadata": {
    "kernelspec": {
      "display_name": "Python 3",
      "language": "python",
      "name": "python3"
    },
    "language_info": {
      "codemirror_mode": {
        "name": "ipython",
        "version": 3
      },
      "file_extension": ".py",
      "mimetype": "text/x-python",
      "name": "python",
      "nbconvert_exporter": "python",
      "pygments_lexer": "ipython3",
      "version": "3.7.1"
    },
    "colab": {
      "provenance": []
    }
  },
  "cells": [
    {
      "cell_type": "markdown",
      "metadata": {
        "id": "Sgv-Rg81Rr6A"
      },
      "source": [
        "### Business Application Development\n",
        "### Assignment 2:  Functions\n",
        "Please complete these exercises to the best of your abilities.  Please include code to invoke each of your functions to demonstrate the functionality.  Write comments throughout your code to explain steps.  If you run into a persistent error, please demonstrate your efforts to resolve it; search the web for the error, see if you can get closer to figuring it out.  Document what you tried in order to fix the problem."
      ]
    },
    {
      "cell_type": "markdown",
      "metadata": {
        "id": "ECYlu9g8I7fH"
      },
      "source": [
        "It is very important to understand the difference between printing and returning output from a function. For most functions, it is desirable to use a return statement. Doing so ensures that the output is usable for additional operations. Sometimes the output of a function is generated using a print statement. This choice is made when the output is static and does not need to interact with any other part of your program. Please see the [video explaining this concept](https://youtu.be/6u_d4nL3xwI). Pay careful attention to the language of the problem so that you can correctly print or return the output."
      ]
    },
    {
      "cell_type": "markdown",
      "metadata": {
        "id": "IJkopS8pRr6D"
      },
      "source": [
        "#### Problem 1\n",
        "Writing basic functions."
      ]
    },
    {
      "cell_type": "markdown",
      "metadata": {
        "id": "794ygeWvJKyq"
      },
      "source": [
        "a. Write a basic function to print the statment \"I can't get enough Python!\""
      ]
    },
    {
      "cell_type": "code",
      "metadata": {
        "id": "x7HcX9lrJLMC"
      },
      "source": [
        "# a.\n",
        "def statement():\n",
        "    print(\"I can't get enough Python!\")\n"
      ],
      "execution_count": 86,
      "outputs": []
    },
    {
      "cell_type": "markdown",
      "source": [
        "Run the function"
      ],
      "metadata": {
        "id": "UDe3i8j2suW1"
      }
    },
    {
      "cell_type": "code",
      "source": [
        "# run the function\n",
        "statement()"
      ],
      "metadata": {
        "id": "iXrFLVsosu7t",
        "colab": {
          "base_uri": "https://localhost:8080/"
        },
        "outputId": "74f10d36-b183-401d-d9be-1c5521320126"
      },
      "execution_count": 87,
      "outputs": [
        {
          "output_type": "stream",
          "name": "stdout",
          "text": [
            "I can't get enough Python!\n"
          ]
        }
      ]
    },
    {
      "cell_type": "markdown",
      "source": [
        "Expected Output\n",
        "```\n",
        "I can't get enough Python!\n",
        "```"
      ],
      "metadata": {
        "id": "9kOwJm5w1Dpk"
      }
    },
    {
      "cell_type": "markdown",
      "metadata": {
        "id": "iVPv8beLRr6E"
      },
      "source": [
        "b. Write a basic function that accepts a name argument and prints \"(name) can't get enough Python!\""
      ]
    },
    {
      "cell_type": "code",
      "metadata": {
        "scrolled": true,
        "id": "z78TDVuLRr6G"
      },
      "source": [
        "# b.\n",
        "def statement_arg(name):\n",
        "    print(name,\"can't get enough Python!\")"
      ],
      "execution_count": 88,
      "outputs": []
    },
    {
      "cell_type": "markdown",
      "source": [
        "Run the function using sample argument \"Tina\"."
      ],
      "metadata": {
        "id": "rdp9_1fRs0VY"
      }
    },
    {
      "cell_type": "code",
      "source": [
        "#run the function on the variable defined below\n",
        "statement_arg(\"Tina\")"
      ],
      "metadata": {
        "id": "3F3kXynts5UB",
        "colab": {
          "base_uri": "https://localhost:8080/"
        },
        "outputId": "985ffe31-ca15-48e9-b610-f6a573ba533d"
      },
      "execution_count": 89,
      "outputs": [
        {
          "output_type": "stream",
          "name": "stdout",
          "text": [
            "Tina can't get enough Python!\n"
          ]
        }
      ]
    },
    {
      "cell_type": "markdown",
      "source": [
        "Expected Output\n",
        "```\n",
        "Tina can't get enough Python!\n",
        "```"
      ],
      "metadata": {
        "id": "BsY6h_bZtbrj"
      }
    },
    {
      "cell_type": "markdown",
      "source": [
        "Run the function using sample argument \"Enzo\"."
      ],
      "metadata": {
        "id": "Pk_LnjiFs8Az"
      }
    },
    {
      "cell_type": "code",
      "source": [
        "name=\"Enzo\"\n",
        "statement_arg(name)"
      ],
      "metadata": {
        "id": "cgaEkGk8tDA8",
        "colab": {
          "base_uri": "https://localhost:8080/"
        },
        "outputId": "5474e073-bf67-4d8d-c032-31c944f2bd34"
      },
      "execution_count": 90,
      "outputs": [
        {
          "output_type": "stream",
          "name": "stdout",
          "text": [
            "Enzo can't get enough Python!\n"
          ]
        }
      ]
    },
    {
      "cell_type": "markdown",
      "metadata": {
        "id": "6-4MbCpRRr6a"
      },
      "source": [
        "#### Problem 2\n",
        "Write a function that accepts the purchase price of a stock and a closing price and **returns** the percent change which is the difference between the purchase price and the closing price relative to the purchase price. Wrap your final output with the round() function in order to return an integer value.   "
      ]
    },
    {
      "cell_type": "code",
      "metadata": {
        "id": "zAXgFtWURr6b"
      },
      "source": [
        "def percent_change(purchase,close):\n",
        "    percent_change=round((close-purchase)/purchase*100)\n",
        "    print(\"The percent change is\",percent_change,\"%\")\n",
        "    return percent_change"
      ],
      "execution_count": 91,
      "outputs": []
    },
    {
      "cell_type": "markdown",
      "source": [
        "Run the function using some sample inputs."
      ],
      "metadata": {
        "id": "0C0KEzSpt1iA"
      }
    },
    {
      "cell_type": "code",
      "source": [
        "# run the function on the variables defined below\n",
        "purchase=3.4\n",
        "close=9.2\n",
        "percent_change(purchase,close)"
      ],
      "metadata": {
        "id": "U4chiZ01t2KZ",
        "colab": {
          "base_uri": "https://localhost:8080/"
        },
        "outputId": "8161b91b-dc23-40b3-84a2-1e7f2a3e3c1e"
      },
      "execution_count": 92,
      "outputs": [
        {
          "output_type": "stream",
          "name": "stdout",
          "text": [
            "The percent change is 171 %\n"
          ]
        },
        {
          "output_type": "execute_result",
          "data": {
            "text/plain": [
              "171"
            ]
          },
          "metadata": {},
          "execution_count": 92
        }
      ]
    },
    {
      "cell_type": "markdown",
      "source": [
        "Expected Output\n",
        "```\n",
        "The percent change is 171 %\n",
        "171\n",
        "```"
      ],
      "metadata": {
        "id": "CUQQPujl1dw7"
      }
    },
    {
      "cell_type": "markdown",
      "source": [
        "Check the function on new inputs. Do you think the program is generalizable?"
      ],
      "metadata": {
        "id": "G97kI5KxuDof"
      }
    },
    {
      "cell_type": "code",
      "source": [
        "# run the function on the variables defined below\n",
        "purchase=14\n",
        "close=11\n",
        "percent_change(purchase,close)\n",
        "# yes the progeam is generalizable"
      ],
      "metadata": {
        "id": "8QC-Irq1uEEG",
        "colab": {
          "base_uri": "https://localhost:8080/"
        },
        "outputId": "a2bc068c-d841-47a4-9318-f20eea5bbec1"
      },
      "execution_count": 93,
      "outputs": [
        {
          "output_type": "stream",
          "name": "stdout",
          "text": [
            "The percent change is -21 %\n"
          ]
        },
        {
          "output_type": "execute_result",
          "data": {
            "text/plain": [
              "-21"
            ]
          },
          "metadata": {},
          "execution_count": 93
        }
      ]
    },
    {
      "cell_type": "markdown",
      "metadata": {
        "id": "IFESHW0pRr6k"
      },
      "source": [
        "#### Problem 3\n",
        "Write a function that accepts a list of data values and returns a summary that includes the mean, standard deviation, minimum, 25th percentile, median, 75th percentile, and maximum. You will need to import the numpy library in order to calculate many of these values.  Do a little bit of research.  In your function, also include printed statements (as seen in the expected output) that makes the output more meaningful.  "
      ]
    },
    {
      "cell_type": "markdown",
      "metadata": {
        "id": "pT2mkfEdGZ3z"
      },
      "source": [
        "This is a good opportunity to take a look at the [documentation for the numpy library](https://numpy.org/doc/stable/reference/generated/numpy.percentile.html). Note that the percentile function acccepts two arguments the data and the desired percentile.  "
      ]
    },
    {
      "cell_type": "code",
      "metadata": {
        "id": "iOS9O3JRRr6n"
      },
      "source": [
        "# import the necessary tools from the numpy library\n",
        "def summary(list):\n",
        "    import numpy\n",
        "    mean=round(numpy.mean(list),1)\n",
        "    std=round(numpy.std(list),1)\n",
        "    minimum=min(list)\n",
        "    percentile=numpy.percentile(list,25)\n",
        "    median=numpy.median(list)\n",
        "    percentile1=numpy.percentile(list,75)\n",
        "    maximum=max(list)\n",
        "    print(\"mean:\",mean)\n",
        "    print(\"standard deviation:\",std)\n",
        "    print(\"minimum:\",minimum)\n",
        "    print(\"25th percentile:\",percentile)\n",
        "    print(\"median:\",median)\n",
        "    print(\"75th percentile:\",percentile1)\n",
        "    print(\"maximum:\",maximum)\n",
        "    return mean,std,minimum,percentile,median,percentile1,maximum"
      ],
      "execution_count": 94,
      "outputs": []
    },
    {
      "cell_type": "markdown",
      "source": [
        "Run the function using some sample data."
      ],
      "metadata": {
        "id": "9M5eNonTugQ-"
      }
    },
    {
      "cell_type": "code",
      "source": [
        "# run the function on the data object defined below\n",
        "x = [4.5, 6, 7, 18, 6.2, 11.6, 24.3, 8.4, 10.3]\n",
        "summary(x)"
      ],
      "metadata": {
        "id": "A8MlOYgYuhDY",
        "colab": {
          "base_uri": "https://localhost:8080/"
        },
        "outputId": "5a6a8b18-c6c3-409f-88a2-72ff1636e4d8"
      },
      "execution_count": 95,
      "outputs": [
        {
          "output_type": "stream",
          "name": "stdout",
          "text": [
            "mean: 10.7\n",
            "standard deviation: 6.1\n",
            "minimum: 4.5\n",
            "25th percentile: 6.2\n",
            "median: 8.4\n",
            "75th percentile: 11.6\n",
            "maximum: 24.3\n"
          ]
        },
        {
          "output_type": "execute_result",
          "data": {
            "text/plain": [
              "(10.7, 6.1, 4.5, 6.2, 8.4, 11.6, 24.3)"
            ]
          },
          "metadata": {},
          "execution_count": 95
        }
      ]
    },
    {
      "cell_type": "markdown",
      "source": [
        "Expected Output\n",
        "```\n",
        "mean: 10.7\n",
        "standard deviation: 6.1\n",
        "minimum: 4.5\n",
        "25th percentile: 6.2\n",
        "median: 8.4\n",
        "75th percentile: 11.6\n",
        "maximum: 24.3\n",
        "(10.7, 6.1, 4.5, 6.2, 8.4, 11.6, 24.3)\n",
        "```"
      ],
      "metadata": {
        "id": "Ft8Ogg0m1t4p"
      }
    },
    {
      "cell_type": "markdown",
      "source": [
        "Check the function on new inputs. Do you think the program is generalizable?"
      ],
      "metadata": {
        "id": "NqJyvqvjuuh6"
      }
    },
    {
      "cell_type": "code",
      "source": [
        "# run the function on the data object defined below\n",
        "y=[7, 10, 32, 15, 12, 90, 43, 2, 6, 17, 19, 67]\n",
        "summary(y)\n",
        "# yes the progeam is generalizable"
      ],
      "metadata": {
        "id": "nxlYN_KSuve9",
        "colab": {
          "base_uri": "https://localhost:8080/"
        },
        "outputId": "3c36c0fa-2643-4a81-cf64-623b8caff67a"
      },
      "execution_count": 96,
      "outputs": [
        {
          "output_type": "stream",
          "name": "stdout",
          "text": [
            "mean: 26.7\n",
            "standard deviation: 26.0\n",
            "minimum: 2\n",
            "25th percentile: 9.25\n",
            "median: 16.0\n",
            "75th percentile: 34.75\n",
            "maximum: 90\n"
          ]
        },
        {
          "output_type": "execute_result",
          "data": {
            "text/plain": [
              "(26.7, 26.0, 2, 9.25, 16.0, 34.75, 90)"
            ]
          },
          "metadata": {},
          "execution_count": 96
        }
      ]
    },
    {
      "cell_type": "markdown",
      "metadata": {
        "id": "gPvHRdAGRr6x"
      },
      "source": [
        "#### Problem 4\n",
        "Write a function that accepts a price for a restaurant bill, a sales tax, and a tip.  The function should calculate and return the amount a customer will have to pay after adding the sales tax amount and tip amount.  Make the default sales tax percentage 6.25% (.0625) and the default tip percentage 15% (.15).\n",
        "\n",
        "Use the following calculation to find the final amount the customer needs to pay. That is, add the tip amount to the bill that includes the tax amount. If you need to review default arguments, [see the video lesson on this topic](https://youtu.be/bUAaZFG7uQk).\n",
        "\n",
        "taxed amount = cost + tax amount    \n",
        "total bill = taxed amount + tip amount"
      ]
    },
    {
      "cell_type": "code",
      "metadata": {
        "id": "fALemJZIRr6z"
      },
      "source": [
        "def calculate_bill(bill,tax=0.0625,tip=0.15):\n",
        "    return round(bill+(bill*tax)+((bill+(bill*tax))*tip),2)"
      ],
      "execution_count": 97,
      "outputs": []
    },
    {
      "cell_type": "markdown",
      "source": [
        "Run the function using some sample values"
      ],
      "metadata": {
        "id": "89fK_xj6wMfV"
      }
    },
    {
      "cell_type": "code",
      "source": [
        "# run the function on the variables defined below\n",
        "print(calculate_bill(20))\n",
        "print(calculate_bill(20, .085, .18))"
      ],
      "metadata": {
        "id": "mbmQ8zUzwNHd",
        "colab": {
          "base_uri": "https://localhost:8080/"
        },
        "outputId": "ec95d72a-ebd8-4bb4-eab7-1d07c498788a"
      },
      "execution_count": 98,
      "outputs": [
        {
          "output_type": "stream",
          "name": "stdout",
          "text": [
            "24.44\n",
            "25.61\n"
          ]
        }
      ]
    },
    {
      "cell_type": "markdown",
      "source": [
        "Expected Output (Tip calculated as a percentage of taxed amount)\n",
        "```\n",
        "24.44\n",
        "25.61\n",
        "```\n",
        "Expected Output (Tip calculated as a percentage of restaurant bill not including tax)\n",
        "```\n",
        "24.25\n",
        "25.3\n",
        "```"
      ],
      "metadata": {
        "id": "SwQvyCMj1_Kf"
      }
    },
    {
      "cell_type": "markdown",
      "source": [
        "Check the function on new inputs. Do you think the program is generalizable?"
      ],
      "metadata": {
        "id": "tZbjA4F9wWYv"
      }
    },
    {
      "cell_type": "code",
      "source": [
        "# run the function on the variables defined below\n",
        "print(calculate_bill(10))\n",
        "print(calculate_bill(10, .11, .25))\n",
        "# yes the program is generalizable"
      ],
      "metadata": {
        "id": "63OV65L_wVLw",
        "colab": {
          "base_uri": "https://localhost:8080/"
        },
        "outputId": "ac0b9e6c-3955-4726-8225-7c2a20010376"
      },
      "execution_count": 99,
      "outputs": [
        {
          "output_type": "stream",
          "name": "stdout",
          "text": [
            "12.22\n",
            "13.88\n"
          ]
        }
      ]
    },
    {
      "cell_type": "markdown",
      "source": [],
      "metadata": {
        "id": "C5Rjg33rSssQ"
      }
    },
    {
      "cell_type": "markdown",
      "metadata": {
        "id": "URqRx50IRr7D"
      },
      "source": [
        "#### Problem 5\n",
        "Write a function that takes in the purchase price and the current price of a certain stock.  If the stock's value has decreased by more than 10% or increased by more than 20%, return Boolean value True. Otherwise return the Boolean value False."
      ]
    },
    {
      "cell_type": "code",
      "metadata": {
        "id": "7NXnpQYoRr7E"
      },
      "source": [
        "def check_price(purchase,current):\n",
        "   change = (current-purchase)/purchase*100\n",
        "   if change<-10 or change>20:\n",
        "       return True\n",
        "   else:\n",
        "       return False"
      ],
      "execution_count": 100,
      "outputs": []
    },
    {
      "cell_type": "markdown",
      "source": [
        "Run the function using some sample values."
      ],
      "metadata": {
        "id": "LiCjZknyw_zg"
      }
    },
    {
      "cell_type": "code",
      "source": [
        "# run the function on the variables defined below\n",
        "purchase=10\n",
        "current=13\n",
        "\n",
        "check_price(purchase,current)"
      ],
      "metadata": {
        "id": "TmbhAR7Hw-55",
        "colab": {
          "base_uri": "https://localhost:8080/"
        },
        "outputId": "93b00aff-f666-4bc4-febd-3b2098a6b70e"
      },
      "execution_count": 101,
      "outputs": [
        {
          "output_type": "execute_result",
          "data": {
            "text/plain": [
              "True"
            ]
          },
          "metadata": {},
          "execution_count": 101
        }
      ]
    },
    {
      "cell_type": "markdown",
      "source": [
        "Expected Output\n",
        "```\n",
        "True\n",
        "```"
      ],
      "metadata": {
        "id": "VpS8IhMZ2N51"
      }
    },
    {
      "cell_type": "markdown",
      "source": [
        "Check the function on new inputs. Do you think the program is generalizable?"
      ],
      "metadata": {
        "id": "hj1Tx6DRxH8O"
      }
    },
    {
      "cell_type": "code",
      "source": [
        "# run the function on the variables defined below\n",
        "purchase=12\n",
        "current=9\n",
        "\n",
        "check_price(purchase,current)\n",
        "# yes the program is generalizable"
      ],
      "metadata": {
        "id": "bqZ7aQtQxIfX",
        "colab": {
          "base_uri": "https://localhost:8080/"
        },
        "outputId": "afa6c340-8d50-439e-f4a6-906ea206dc11"
      },
      "execution_count": 102,
      "outputs": [
        {
          "output_type": "execute_result",
          "data": {
            "text/plain": [
              "True"
            ]
          },
          "metadata": {},
          "execution_count": 102
        }
      ]
    },
    {
      "cell_type": "markdown",
      "source": [
        "Check the function on new inputs. Do you think the program is generalizable?"
      ],
      "metadata": {
        "id": "F6tgvZR9xcbO"
      }
    },
    {
      "cell_type": "code",
      "source": [
        "# run the function on the variables defined below\n",
        "purchase=15\n",
        "current=16\n",
        "\n",
        "check_price(purchase,current)\n",
        "# yes the program is generalizable"
      ],
      "metadata": {
        "id": "-Ov6u-dCxcbP",
        "colab": {
          "base_uri": "https://localhost:8080/"
        },
        "outputId": "f6b9de69-30db-4ea7-9626-35ec9b1f2b62"
      },
      "execution_count": 103,
      "outputs": [
        {
          "output_type": "execute_result",
          "data": {
            "text/plain": [
              "False"
            ]
          },
          "metadata": {},
          "execution_count": 103
        }
      ]
    },
    {
      "cell_type": "markdown",
      "metadata": {
        "id": "37iBl_m-Rr7V"
      },
      "source": [
        "#### Problem 6  - *optional challenge*\n",
        "Write a function that accepts a positive number and formats it into a string in monetary format correctly representing the dollar and cent amounts.   For example:\n",
        "\n",
        "```\n",
        "money_format(3510000.159897)\n",
        "```\n",
        "should return\n",
        "```\n",
        "  '3,510,000.16'\n",
        "```\n",
        "You will need to do some research first to find a prebuilt function to accomplish this. Do not attempt to write a function to perform this task unless you have a lot of time on your hand.\n",
        "\n",
        "See https://www.geeksforgeeks.org/python-format-function/"
      ]
    },
    {
      "cell_type": "markdown",
      "source": [],
      "metadata": {
        "id": "tK7XP7y7lj03"
      }
    },
    {
      "cell_type": "code",
      "metadata": {
        "id": "GcTvpBS-Rr7W",
        "colab": {
          "base_uri": "https://localhost:8080/",
          "height": 35
        },
        "outputId": "bda8359c-281f-4e1c-e752-c984811970ab"
      },
      "source": [
        "def money_format(amount):\n",
        "   if amount<0:\n",
        "      return false\n",
        "   else:\n",
        "      return \"{:,.2f}\".format(amount)\n",
        "\n",
        "money_format(3510000.159897)"
      ],
      "execution_count": 104,
      "outputs": [
        {
          "output_type": "execute_result",
          "data": {
            "text/plain": [
              "'3,510,000.16'"
            ],
            "application/vnd.google.colaboratory.intrinsic+json": {
              "type": "string"
            }
          },
          "metadata": {},
          "execution_count": 104
        }
      ]
    }
  ]
}