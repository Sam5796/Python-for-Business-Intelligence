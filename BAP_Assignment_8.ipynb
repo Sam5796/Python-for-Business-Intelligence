{
  "nbformat": 4,
  "nbformat_minor": 0,
  "metadata": {
    "kernelspec": {
      "display_name": "Python 3",
      "language": "python",
      "name": "python3"
    },
    "language_info": {
      "codemirror_mode": {
        "name": "ipython",
        "version": 3
      },
      "file_extension": ".py",
      "mimetype": "text/x-python",
      "name": "python",
      "nbconvert_exporter": "python",
      "pygments_lexer": "ipython3",
      "version": "3.7.1"
    },
    "colab": {
      "provenance": []
    }
  },
  "cells": [
    {
      "cell_type": "markdown",
      "metadata": {
        "id": "cPGkEbjqSnYS"
      },
      "source": [
        "# Business Applications Development\n",
        "### Assignment 8: Data Analysis and Visualization\n",
        "Please complete these exercises to the best of your abilities. Please include code to invoke each of your programs to demonstrate the functionality. Write comments throughout your code to explain steps. If you run into a persistent error, please demonstrate your efforts to resolve it; search the web for the error, see if you can get closer to figuring it out. Document what you tried in order to fix the problem.\n",
        "\n",
        "### Extra tests\n",
        "Please note that it is critical to reference the function parameters rather than the sample data. The autotests will check to make sure your functions operate correctly on new data collections and variables."
      ]
    },
    {
      "cell_type": "code",
      "metadata": {
        "id": "rqPj4ienSuRm"
      },
      "source": [
        "# Suppress warnings -- removes messages that clutter the output\n",
        "import warnings\n",
        "warnings.filterwarnings(\"ignore\")"
      ],
      "execution_count": 1,
      "outputs": []
    },
    {
      "cell_type": "markdown",
      "metadata": {
        "id": "DhRRJeoVSnYX"
      },
      "source": [
        "### Problem 1:  Importing data and creating a data frame  \n",
        "#### Use the gapminder data for problems 1-5\n",
        "a. Import data from a url containing csv data of the form seen here: http://bit.ly/2cLzoxH and create a pandas data frame and examine the first 6 lines of the data set.  \n",
        "\n",
        "c.  Sort the data frame by decreasing life expectancy and print the first 6 lines of the sorted dataframe."
      ]
    },
    {
      "cell_type": "code",
      "metadata": {
        "id": "rb4Ru-3jSnYZ"
      },
      "source": [
        "def gm_data(data_source):\n",
        "    ## Import necessary libraries\n",
        "    import pandas as pd\n",
        "\n",
        "    # a. Import the data and create a dataframe\n",
        "    gm=pd.read_csv(data_source).round(decimals=2)\n",
        "    print(gm.head(),'\\n')\n",
        "\n",
        "    # c.  Sort the data frame by decreasing life expectancy\n",
        "    gm_sorted=gm.sort_values('lifeExp', ascending=False)\n",
        "    print(gm_sorted.head())"
      ],
      "execution_count": 6,
      "outputs": []
    },
    {
      "cell_type": "code",
      "metadata": {
        "id": "i1A5sUPIQN3x",
        "colab": {
          "base_uri": "https://localhost:8080/"
        },
        "outputId": "f10a70fb-0936-4403-935d-011da489ca97"
      },
      "source": [
        "# Run the function on the following data\n",
        "data_url = 'http://bit.ly/2cLzoxH'\n",
        "\n",
        "gm_data(data_url)"
      ],
      "execution_count": 7,
      "outputs": [
        {
          "output_type": "stream",
          "name": "stdout",
          "text": [
            "       country  year         pop continent  lifeExp  gdpPercap\n",
            "0  Afghanistan  1952   8425333.0      Asia    28.80     779.45\n",
            "1  Afghanistan  1957   9240934.0      Asia    30.33     820.85\n",
            "2  Afghanistan  1962  10267083.0      Asia    32.00     853.10\n",
            "3  Afghanistan  1967  11537966.0      Asia    34.02     836.20\n",
            "4  Afghanistan  1972  13079460.0      Asia    36.09     739.98 \n",
            "\n",
            "              country  year          pop continent  lifeExp  gdpPercap\n",
            "803             Japan  2007  127467972.0      Asia    82.60   31656.07\n",
            "671   Hong Kong China  2007    6980412.0      Asia    82.21   39724.98\n",
            "802             Japan  2002  127065841.0      Asia    82.00   28604.59\n",
            "695           Iceland  2007     301931.0    Europe    81.76   36180.79\n",
            "1487      Switzerland  2007    7554661.0    Europe    81.70   37506.42\n"
          ]
        }
      ]
    },
    {
      "cell_type": "markdown",
      "metadata": {
        "id": "LBna5r9jRc9v"
      },
      "source": [
        "Expected Output\n",
        "```\n",
        "       country  year         pop continent  lifeExp  gdpPercap\n",
        "0  Afghanistan  1952   8425333.0      Asia    28.80     779.45\n",
        "1  Afghanistan  1957   9240934.0      Asia    30.33     820.85\n",
        "2  Afghanistan  1962  10267083.0      Asia    32.00     853.10\n",
        "3  Afghanistan  1967  11537966.0      Asia    34.02     836.20\n",
        "4  Afghanistan  1972  13079460.0      Asia    36.09     739.98\n",
        "\n",
        "              country  year          pop continent  lifeExp  gdpPercap\n",
        "803             Japan  2007  127467972.0      Asia    82.60   31656.07\n",
        "671   Hong Kong China  2007    6980412.0      Asia    82.21   39724.98\n",
        "802             Japan  2002  127065841.0      Asia    82.00   28604.59\n",
        "695           Iceland  2007     301931.0    Europe    81.76   36180.79\n",
        "1487      Switzerland  2007    7554661.0    Europe    81.70   37506.42\n",
        "```"
      ]
    },
    {
      "cell_type": "markdown",
      "metadata": {
        "id": "leLh7ChhSnYr"
      },
      "source": [
        "### Problem 2:  Filtering, Summarizing, and Visualizing Distributions\n",
        "Build a function to select gapminder data from a specific year and perform some summary and visualization tasks.\n",
        "\n",
        "a.  Select data from a specific year using ```y``` as the second function parameter.\n",
        "\n",
        "b.  Find a statistical summary of the data from the selected year.\n",
        "\n",
        "c.  Create one histogram for GDP and one for Life Expectancy for the selected year.\n",
        "\n",
        "d.  Create parallel boxplots to show the distributions of GDP by continent for the selected year.\n"
      ]
    },
    {
      "cell_type": "code",
      "metadata": {
        "id": "RfcieBkzSnYs"
      },
      "source": [
        "def exploring_data(data_source, y):\n",
        "    ## Import necessary libraries\n",
        "    import pandas as pd\n",
        "    import matplotlib.pyplot as plt\n",
        "    %matplotlib inline\n",
        "    import seaborn as sns\n",
        "\n",
        "    # import the data as a dataframe called gm\n",
        "    gm=pd.read_csv(data_source)\n",
        "\n",
        "    # a.  Select data from year y\n",
        "    y=int(y)\n",
        "    gm_y=gm[gm['year']==y]\n",
        "\n",
        "    # b.  Find a statistical summary of the data from selected year\n",
        "    summary=gm_y.describe().round(decimals=2)\n",
        "    print(summary)\n",
        "\n",
        "    # c.  Create one histogram for GDP and one for Life Expectancy\n",
        "    gdp_hist = plt.hist(gm_y['gdpPercap'])\n",
        "    plt.title('GDP Per Capita in Countries of the World, %s'%y)\n",
        "    plt.xlabel('GDP per Capita (USD)')\n",
        "    plt.ylabel('Number of Countries')\n",
        "    plt.show()\n",
        "\n",
        "    exp_hist = plt.hist(gm_y['lifeExp'])\n",
        "    plt.title('Life Expectancy in Countries of the World, %s'%y)\n",
        "    plt.xlabel('Life Expectancy (years)')\n",
        "    plt.ylabel('Number of Countries')\n",
        "    plt.show()\n",
        "\n",
        "\n",
        "    # d.  Create parallel boxplots to show the distributions of GDP within each continent\n",
        "    sns.boxplot(x=gm_y['continent'], y=gm_y['gdpPercap'], palette='rocket')\n"
      ],
      "execution_count": 12,
      "outputs": []
    },
    {
      "cell_type": "code",
      "metadata": {
        "id": "iPW3D1A-R5Zz",
        "colab": {
          "base_uri": "https://localhost:8080/",
          "height": 1000
        },
        "outputId": "76a89b75-a8ac-46b5-bac2-de5ab969d76e"
      },
      "source": [
        "# Run the function on the following data\n",
        "data_url = 'http://bit.ly/2cLzoxH'\n",
        "exploring_data(data_url,2002)"
      ],
      "execution_count": 13,
      "outputs": [
        {
          "output_type": "stream",
          "name": "stdout",
          "text": [
            "         year           pop  lifeExp  gdpPercap\n",
            "count   142.0  1.420000e+02   142.00     142.00\n",
            "mean   2002.0  4.145759e+07    65.69    9917.85\n",
            "std       0.0  1.408483e+08    12.28   11154.11\n",
            "min    2002.0  1.703720e+05    39.19     241.17\n",
            "25%    2002.0  4.173506e+06    55.52    1409.57\n",
            "50%    2002.0  1.037292e+07    70.83    5319.80\n",
            "75%    2002.0  2.654556e+07    75.46   13359.51\n",
            "max    2002.0  1.280400e+09    82.00   44683.98\n"
          ]
        },
        {
          "output_type": "display_data",
          "data": {
            "text/plain": [
              "<Figure size 640x480 with 1 Axes>"
            ],
            "image/png": "[encoded data removed]"
          },
          "metadata": {}
        },
        {
          "output_type": "display_data",
          "data": {
            "text/plain": [
              "<Figure size 640x480 with 1 Axes>"
            ],
            "image/png": "[encoded data removed]"
          },
          "metadata": {}
        },
        {
          "output_type": "display_data",
          "data": {
            "text/plain": [
              "<Figure size 640x480 with 1 Axes>"
            ],
            "image/png": "[encoded data removed]"
          },
          "metadata": {}
        }
      ]
    },
    {
      "cell_type": "markdown",
      "metadata": {
        "id": "hc1fSDidA0tJ"
      },
      "source": [
        "Expected Output\n",
        "```\n",
        "         year           pop  lifeExp  gdpPercap\n",
        "count   142.0  1.420000e+02   142.00     142.00\n",
        "mean   2002.0  4.145759e+07    65.69    9917.85\n",
        "std       0.0  1.408483e+08    12.28   11154.11\n",
        "min    2002.0  1.703720e+05    39.19     241.17\n",
        "25%    2002.0  4.173506e+06    55.52    1409.57\n",
        "50%    2002.0  1.037292e+07    70.83    5319.80\n",
        "75%    2002.0  2.654556e+07    75.46   13359.51\n",
        "max    2002.0  1.280400e+09    82.00   44683.98\n",
        "```\n",
        "\n",
        "![graphic](https://drive.google.com/uc?id=1OAqnY9Ia-pHgxiMH_4OV-vnmpkqYQENx)\n"
      ]
    },
    {
      "cell_type": "markdown",
      "metadata": {
        "id": "wN7Hxm0TSnZL"
      },
      "source": [
        "### Problem 3:  Pivot Table\n",
        "Create a pivot table that summarizes the gdp by year (rows) and continent (columns) based on an aggregating function such as median, maximum, etc. The function should accept the data source and the aggregating function as arguments.\n"
      ]
    },
    {
      "cell_type": "code",
      "metadata": {
        "id": "VdqSqyKpSnZM"
      },
      "source": [
        "def pivot_table(data_source,opp):\n",
        "    ## Import necessary libraries\n",
        "    import pandas as pd\n",
        "\n",
        "    # import the data as a dataframe called gm\n",
        "    gm=pd.read_csv(data_source)\n",
        "\n",
        "    # Code:\n",
        "    # First, create a dataframe with the columns continent, year, and gdpPercap\n",
        "    df=gm[['continent', 'year', 'gdpPercap']]\n",
        "    pt=pd.pivot_table(df, values='gdpPercap',\n",
        "                index=['year'],\n",
        "                columns='continent',\n",
        "                aggfunc=opp).round(decimals=2) # equals the second function parameter\n",
        "\n",
        "    return(pt)"
      ],
      "execution_count": 45,
      "outputs": []
    },
    {
      "cell_type": "code",
      "metadata": {
        "id": "3MKQpHjTgtDm",
        "colab": {
          "base_uri": "https://localhost:8080/",
          "height": 457
        },
        "outputId": "ec1a314c-4f43-482d-9fac-fa9335fec3c9"
      },
      "source": [
        "# Run the function on the following data\n",
        "data_url = 'http://bit.ly/2cLzoxH'\n",
        "operation='max'\n",
        "pivot_table(data_url,operation)"
      ],
      "execution_count": 46,
      "outputs": [
        {
          "output_type": "execute_result",
          "data": {
            "text/plain": [
              "continent    Africa  Americas       Asia    Europe   Oceania\n",
              "year                                                        \n",
              "1952        4725.30  13990.48  108382.35  14734.23  10556.58\n",
              "1957        5487.10  14847.13  113523.13  17909.49  12247.40\n",
              "1962        6757.03  16173.15   95458.11  20431.09  13175.68\n",
              "1967       18772.75  19530.37   80894.88  22966.14  14526.12\n",
              "1972       21011.50  21806.04  109347.87  27195.11  16788.63\n",
              "1977       21951.21  24072.63   59265.48  26982.29  18334.20\n",
              "1982       17364.28  25009.56   33693.18  28397.72  19477.01\n",
              "1987       11864.41  29884.35   28118.43  31540.97  21888.89\n",
              "1992       13522.16  32003.93   34932.92  33965.66  23424.77\n",
              "1997       14722.84  35767.43   40300.62  41283.16  26997.94\n",
              "2002       12521.71  39097.10   36023.11  44683.98  30687.75\n",
              "2007       13206.48  42951.65   47306.99  49357.19  34435.37"
            ],
            "text/html": [
              "\n",
              "  <div id=\"df-5d3f0a35-93f7-49fd-a4e2-d6e83df02062\" class=\"colab-df-container\">\n",
              "    <div>\n",
              "<style scoped>\n",
              "    .dataframe tbody tr th:only-of-type {\n",
              "        vertical-align: middle;\n",
              "    }\n",
              "\n",
              "    .dataframe tbody tr th {\n",
              "        vertical-align: top;\n",
              "    }\n",
              "\n",
              "    .dataframe thead th {\n",
              "        text-align: right;\n",
              "    }\n",
              "</style>\n",
              "<table border=\"1\" class=\"dataframe\">\n",
              "  <thead>\n",
              "    <tr style=\"text-align: right;\">\n",
              "      <th>continent</th>\n",
              "      <th>Africa</th>\n",
              "      <th>Americas</th>\n",
              "      <th>Asia</th>\n",
              "      <th>Europe</th>\n",
              "      <th>Oceania</th>\n",
              "    </tr>\n",
              "    <tr>\n",
              "      <th>year</th>\n",
              "      <th></th>\n",
              "      <th></th>\n",
              "      <th></th>\n",
              "      <th></th>\n",
              "      <th></th>\n",
              "    </tr>\n",
              "  </thead>\n",
              "  <tbody>\n",
              "    <tr>\n",
              "      <th>1952</th>\n",
              "      <td>4725.30</td>\n",
              "      <td>13990.48</td>\n",
              "      <td>108382.35</td>\n",
              "      <td>14734.23</td>\n",
              "      <td>10556.58</td>\n",
              "    </tr>\n",
              "    <tr>\n",
              "      <th>1957</th>\n",
              "      <td>5487.10</td>\n",
              "      <td>14847.13</td>\n",
              "      <td>113523.13</td>\n",
              "      <td>17909.49</td>\n",
              "      <td>12247.40</td>\n",
              "    </tr>\n",
              "    <tr>\n",
              "      <th>1962</th>\n",
              "      <td>6757.03</td>\n",
              "      <td>16173.15</td>\n",
              "      <td>95458.11</td>\n",
              "      <td>20431.09</td>\n",
              "      <td>13175.68</td>\n",
              "    </tr>\n",
              "    <tr>\n",
              "      <th>1967</th>\n",
              "      <td>18772.75</td>\n",
              "      <td>19530.37</td>\n",
              "      <td>80894.88</td>\n",
              "      <td>22966.14</td>\n",
              "      <td>14526.12</td>\n",
              "    </tr>\n",
              "    <tr>\n",
              "      <th>1972</th>\n",
              "      <td>21011.50</td>\n",
              "      <td>21806.04</td>\n",
              "      <td>109347.87</td>\n",
              "      <td>27195.11</td>\n",
              "      <td>16788.63</td>\n",
              "    </tr>\n",
              "    <tr>\n",
              "      <th>1977</th>\n",
              "      <td>21951.21</td>\n",
              "      <td>24072.63</td>\n",
              "      <td>59265.48</td>\n",
              "      <td>26982.29</td>\n",
              "      <td>18334.20</td>\n",
              "    </tr>\n",
              "    <tr>\n",
              "      <th>1982</th>\n",
              "      <td>17364.28</td>\n",
              "      <td>25009.56</td>\n",
              "      <td>33693.18</td>\n",
              "      <td>28397.72</td>\n",
              "      <td>19477.01</td>\n",
              "    </tr>\n",
              "    <tr>\n",
              "      <th>1987</th>\n",
              "      <td>11864.41</td>\n",
              "      <td>29884.35</td>\n",
              "      <td>28118.43</td>\n",
              "      <td>31540.97</td>\n",
              "      <td>21888.89</td>\n",
              "    </tr>\n",
              "    <tr>\n",
              "      <th>1992</th>\n",
              "      <td>13522.16</td>\n",
              "      <td>32003.93</td>\n",
              "      <td>34932.92</td>\n",
              "      <td>33965.66</td>\n",
              "      <td>23424.77</td>\n",
              "    </tr>\n",
              "    <tr>\n",
              "      <th>1997</th>\n",
              "      <td>14722.84</td>\n",
              "      <td>35767.43</td>\n",
              "      <td>40300.62</td>\n",
              "      <td>41283.16</td>\n",
              "      <td>26997.94</td>\n",
              "    </tr>\n",
              "    <tr>\n",
              "      <th>2002</th>\n",
              "      <td>12521.71</td>\n",
              "      <td>39097.10</td>\n",
              "      <td>36023.11</td>\n",
              "      <td>44683.98</td>\n",
              "      <td>30687.75</td>\n",
              "    </tr>\n",
              "    <tr>\n",
              "      <th>2007</th>\n",
              "      <td>13206.48</td>\n",
              "      <td>42951.65</td>\n",
              "      <td>47306.99</td>\n",
              "      <td>49357.19</td>\n",
              "      <td>34435.37</td>\n",
              "    </tr>\n",
              "  </tbody>\n",
              "</table>\n",
              "</div>\n",
              "    <div class=\"colab-df-buttons\">\n",
              "\n",
              "  <div class=\"colab-df-container\">\n",
              "    <button class=\"colab-df-convert\" onclick=\"convertToInteractive('df-5d3f0a35-93f7-49fd-a4e2-d6e83df02062')\"\n",
              "            title=\"Convert this dataframe to an interactive table.\"\n",
              "            style=\"display:none;\">\n",
              "\n",
              "  <svg xmlns=\"http://www.w3.org/2000/svg\" height=\"24px\" viewBox=\"0 -960 960 960\">\n",
              "    <path d=\"M120-120v-720h720v720H120Zm60-500h600v-160H180v160Zm220 220h160v-160H400v160Zm0 220h160v-160H400v160ZM180-400h160v-160H180v160Zm440 0h160v-160H620v160ZM180-180h160v-160H180v160Zm440 0h160v-160H620v160Z\"/>\n",
              "  </svg>\n",
              "    </button>\n",
              "\n",
              "  <style>\n",
              "    .colab-df-container {\n",
              "      display:flex;\n",
              "      gap: 12px;\n",
              "    }\n",
              "\n",
              "    .colab-df-convert {\n",
              "      background-color: #E8F0FE;\n",
              "      border: none;\n",
              "      border-radius: 50%;\n",
              "      cursor: pointer;\n",
              "      display: none;\n",
              "      fill: #1967D2;\n",
              "      height: 32px;\n",
              "      padding: 0 0 0 0;\n",
              "      width: 32px;\n",
              "    }\n",
              "\n",
              "    .colab-df-convert:hover {\n",
              "      background-color: #E2EBFA;\n",
              "      box-shadow: 0px 1px 2px rgba(60, 64, 67, 0.3), 0px 1px 3px 1px rgba(60, 64, 67, 0.15);\n",
              "      fill: #174EA6;\n",
              "    }\n",
              "\n",
              "    .colab-df-buttons div {\n",
              "      margin-bottom: 4px;\n",
              "    }\n",
              "\n",
              "    [theme=dark] .colab-df-convert {\n",
              "      background-color: #3B4455;\n",
              "      fill: #D2E3FC;\n",
              "    }\n",
              "\n",
              "    [theme=dark] .colab-df-convert:hover {\n",
              "      background-color: #434B5C;\n",
              "      box-shadow: 0px 1px 3px 1px rgba(0, 0, 0, 0.15);\n",
              "      filter: drop-shadow(0px 1px 2px rgba(0, 0, 0, 0.3));\n",
              "      fill: #FFFFFF;\n",
              "    }\n",
              "  </style>\n",
              "\n",
              "    <script>\n",
              "      const buttonEl =\n",
              "        document.querySelector('#df-5d3f0a35-93f7-49fd-a4e2-d6e83df02062 button.colab-df-convert');\n",
              "      buttonEl.style.display =\n",
              "        google.colab.kernel.accessAllowed ? 'block' : 'none';\n",
              "\n",
              "      async function convertToInteractive(key) {\n",
              "        const element = document.querySelector('#df-5d3f0a35-93f7-49fd-a4e2-d6e83df02062');\n",
              "        const dataTable =\n",
              "          await google.colab.kernel.invokeFunction('convertToInteractive',\n",
              "                                                    [key], {});\n",
              "        if (!dataTable) return;\n",
              "\n",
              "        const docLinkHtml = 'Like what you see? Visit the ' +\n",
              "          '<a target=\"_blank\" href=https://colab.research.google.com/notebooks/data_table.ipynb>data table notebook</a>'\n",
              "          + ' to learn more about interactive tables.';\n",
              "        element.innerHTML = '';\n",
              "        dataTable['output_type'] = 'display_data';\n",
              "        await google.colab.output.renderOutput(dataTable, element);\n",
              "        const docLink = document.createElement('div');\n",
              "        docLink.innerHTML = docLinkHtml;\n",
              "        element.appendChild(docLink);\n",
              "      }\n",
              "    </script>\n",
              "  </div>\n",
              "\n",
              "\n",
              "<div id=\"df-15754dc5-4639-49c9-b9bb-bbd32c03b6f7\">\n",
              "  <button class=\"colab-df-quickchart\" onclick=\"quickchart('df-15754dc5-4639-49c9-b9bb-bbd32c03b6f7')\"\n",
              "            title=\"Suggest charts\"\n",
              "            style=\"display:none;\">\n",
              "\n",
              "<svg xmlns=\"http://www.w3.org/2000/svg\" height=\"24px\"viewBox=\"0 0 24 24\"\n",
              "     width=\"24px\">\n",
              "    <g>\n",
              "        <path d=\"M19 3H5c-1.1 0-2 .9-2 2v14c0 1.1.9 2 2 2h14c1.1 0 2-.9 2-2V5c0-1.1-.9-2-2-2zM9 17H7v-7h2v7zm4 0h-2V7h2v10zm4 0h-2v-4h2v4z\"/>\n",
              "    </g>\n",
              "</svg>\n",
              "  </button>\n",
              "\n",
              "<style>\n",
              "  .colab-df-quickchart {\n",
              "      --bg-color: #E8F0FE;\n",
              "      --fill-color: #1967D2;\n",
              "      --hover-bg-color: #E2EBFA;\n",
              "      --hover-fill-color: #174EA6;\n",
              "      --disabled-fill-color: #AAA;\n",
              "      --disabled-bg-color: #DDD;\n",
              "  }\n",
              "\n",
              "  [theme=dark] .colab-df-quickchart {\n",
              "      --bg-color: #3B4455;\n",
              "      --fill-color: #D2E3FC;\n",
              "      --hover-bg-color: #434B5C;\n",
              "      --hover-fill-color: #FFFFFF;\n",
              "      --disabled-bg-color: #3B4455;\n",
              "      --disabled-fill-color: #666;\n",
              "  }\n",
              "\n",
              "  .colab-df-quickchart {\n",
              "    background-color: var(--bg-color);\n",
              "    border: none;\n",
              "    border-radius: 50%;\n",
              "    cursor: pointer;\n",
              "    display: none;\n",
              "    fill: var(--fill-color);\n",
              "    height: 32px;\n",
              "    padding: 0;\n",
              "    width: 32px;\n",
              "  }\n",
              "\n",
              "  .colab-df-quickchart:hover {\n",
              "    background-color: var(--hover-bg-color);\n",
              "    box-shadow: 0 1px 2px rgba(60, 64, 67, 0.3), 0 1px 3px 1px rgba(60, 64, 67, 0.15);\n",
              "    fill: var(--button-hover-fill-color);\n",
              "  }\n",
              "\n",
              "  .colab-df-quickchart-complete:disabled,\n",
              "  .colab-df-quickchart-complete:disabled:hover {\n",
              "    background-color: var(--disabled-bg-color);\n",
              "    fill: var(--disabled-fill-color);\n",
              "    box-shadow: none;\n",
              "  }\n",
              "\n",
              "  .colab-df-spinner {\n",
              "    border: 2px solid var(--fill-color);\n",
              "    border-color: transparent;\n",
              "    border-bottom-color: var(--fill-color);\n",
              "    animation:\n",
              "      spin 1s steps(1) infinite;\n",
              "  }\n",
              "\n",
              "  @keyframes spin {\n",
              "    0% {\n",
              "      border-color: transparent;\n",
              "      border-bottom-color: var(--fill-color);\n",
              "      border-left-color: var(--fill-color);\n",
              "    }\n",
              "    20% {\n",
              "      border-color: transparent;\n",
              "      border-left-color: var(--fill-color);\n",
              "      border-top-color: var(--fill-color);\n",
              "    }\n",
              "    30% {\n",
              "      border-color: transparent;\n",
              "      border-left-color: var(--fill-color);\n",
              "      border-top-color: var(--fill-color);\n",
              "      border-right-color: var(--fill-color);\n",
              "    }\n",
              "    40% {\n",
              "      border-color: transparent;\n",
              "      border-right-color: var(--fill-color);\n",
              "      border-top-color: var(--fill-color);\n",
              "    }\n",
              "    60% {\n",
              "      border-color: transparent;\n",
              "      border-right-color: var(--fill-color);\n",
              "    }\n",
              "    80% {\n",
              "      border-color: transparent;\n",
              "      border-right-color: var(--fill-color);\n",
              "      border-bottom-color: var(--fill-color);\n",
              "    }\n",
              "    90% {\n",
              "      border-color: transparent;\n",
              "      border-bottom-color: var(--fill-color);\n",
              "    }\n",
              "  }\n",
              "</style>\n",
              "\n",
              "  <script>\n",
              "    async function quickchart(key) {\n",
              "      const quickchartButtonEl =\n",
              "        document.querySelector('#' + key + ' button');\n",
              "      quickchartButtonEl.disabled = true;  // To prevent multiple clicks.\n",
              "      quickchartButtonEl.classList.add('colab-df-spinner');\n",
              "      try {\n",
              "        const charts = await google.colab.kernel.invokeFunction(\n",
              "            'suggestCharts', [key], {});\n",
              "      } catch (error) {\n",
              "        console.error('Error during call to suggestCharts:', error);\n",
              "      }\n",
              "      quickchartButtonEl.classList.remove('colab-df-spinner');\n",
              "      quickchartButtonEl.classList.add('colab-df-quickchart-complete');\n",
              "    }\n",
              "    (() => {\n",
              "      let quickchartButtonEl =\n",
              "        document.querySelector('#df-15754dc5-4639-49c9-b9bb-bbd32c03b6f7 button');\n",
              "      quickchartButtonEl.style.display =\n",
              "        google.colab.kernel.accessAllowed ? 'block' : 'none';\n",
              "    })();\n",
              "  </script>\n",
              "</div>\n",
              "\n",
              "    </div>\n",
              "  </div>\n"
            ],
            "application/vnd.google.colaboratory.intrinsic+json": {
              "type": "dataframe",
              "summary": "{\n  \"name\": \"pivot_table(data_url,operation)\",\n  \"rows\": 12,\n  \"fields\": [\n    {\n      \"column\": \"year\",\n      \"properties\": {\n        \"dtype\": \"number\",\n        \"std\": 18,\n        \"min\": 1952,\n        \"max\": 2007,\n        \"num_unique_values\": 12,\n        \"samples\": [\n          2002,\n          1997,\n          1952\n        ],\n        \"semantic_type\": \"\",\n        \"description\": \"\"\n      }\n    },\n    {\n      \"column\": \"Africa\",\n      \"properties\": {\n        \"dtype\": \"number\",\n        \"std\": 5740.313346612644,\n        \"min\": 4725.3,\n        \"max\": 21951.21,\n        \"num_unique_values\": 12,\n        \"samples\": [\n          12521.71,\n          14722.84,\n          4725.3\n        ],\n        \"semantic_type\": \"\",\n        \"description\": \"\"\n      }\n    },\n    {\n      \"column\": \"Americas\",\n      \"properties\": {\n        \"dtype\": \"number\",\n        \"std\": 9695.056393045077,\n        \"min\": 13990.48,\n        \"max\": 42951.65,\n        \"num_unique_values\": 12,\n        \"samples\": [\n          39097.1,\n          35767.43,\n          13990.48\n        ],\n        \"semantic_type\": \"\",\n        \"description\": \"\"\n      }\n    },\n    {\n      \"column\": \"Asia\",\n      \"properties\": {\n        \"dtype\": \"number\",\n        \"std\": 33600.95554547847,\n        \"min\": 28118.43,\n        \"max\": 113523.13,\n        \"num_unique_values\": 12,\n        \"samples\": [\n          36023.11,\n          40300.62,\n          108382.35\n        ],\n        \"semantic_type\": \"\",\n        \"description\": \"\"\n      }\n    },\n    {\n      \"column\": \"Europe\",\n      \"properties\": {\n        \"dtype\": \"number\",\n        \"std\": 10768.261499659298,\n        \"min\": 14734.23,\n        \"max\": 49357.19,\n        \"num_unique_values\": 12,\n        \"samples\": [\n          44683.98,\n          41283.16,\n          14734.23\n        ],\n        \"semantic_type\": \"\",\n        \"description\": \"\"\n      }\n    },\n    {\n      \"column\": \"Oceania\",\n      \"properties\": {\n        \"dtype\": \"number\",\n        \"std\": 7540.890038389489,\n        \"min\": 10556.58,\n        \"max\": 34435.37,\n        \"num_unique_values\": 12,\n        \"samples\": [\n          30687.75,\n          26997.94,\n          10556.58\n        ],\n        \"semantic_type\": \"\",\n        \"description\": \"\"\n      }\n    }\n  ]\n}"
            }
          },
          "metadata": {},
          "execution_count": 46
        }
      ]
    },
    {
      "cell_type": "markdown",
      "metadata": {
        "id": "TJcWrcCqFydE"
      },
      "source": [
        "Expected Output\n",
        "```\n",
        "continent\tAfrica\tAmericas\tAsia\tEurope\tOceania\n",
        "year\n",
        "1952\t987.03\t3048.30\t1206.95\t5142.47\t10298.09\n",
        "1957\t1024.02\t3780.55\t1547.94\t6066.72\t11598.52\n",
        "1962\t1133.78\t4086.11\t1649.55\t7515.73\t12696.45\n",
        "1967\t1210.38\t4643.39\t2029.23\t9366.07\t14495.02\n",
        "1972\t1443.37\t5305.45\t2571.42\t12326.38\t16417.33\n",
        "1977\t1399.64\t6281.29\t3195.48\t14225.75\t17283.96\n",
        "1982\t1323.73\t6434.50\t4106.53\t15322.82\t18554.71\n",
        "1987\t1219.59\t6360.94\t4106.49\t16215.49\t20448.04\n",
        "1992\t1161.63\t6618.74\t3726.06\t17550.16\t20894.05\n",
        "1997\t1179.88\t7113.69\t3645.38\t19596.50\t24024.18\n",
        "2002\t1215.68\t6994.77\t4090.93\t23674.86\t26938.78\n",
        "2007\t1452.27\t8948.10\t4471.06\t28054.07\t29810.19\n",
        "```"
      ]
    },
    {
      "cell_type": "markdown",
      "metadata": {
        "id": "PKLAW4PeSnY6"
      },
      "source": [
        "### Problem 4:  Filtering by Country and Plotting Over Time\n",
        "This function will examine the trends in GDP over the years and allow for variable input of countries in that the second argument of the function is a list of countries.\n",
        "\n",
        "a.  Select data for all years, but only for a list of countries, for example ```['US', 'China', 'United Kingdom', 'Brazil', 'India']```. Examine the first 6 rows of the data frame.\n",
        "\n",
        "b.  Create a plot of GDP over time for the selected countries (include labels).\n"
      ]
    },
    {
      "cell_type": "code",
      "metadata": {
        "id": "KPDxqYm2SnZA"
      },
      "source": [
        "def time_series(data_source, ct_lst):\n",
        "    ## Import necessary libraries\n",
        "    import matplotlib.pyplot as plt\n",
        "    %matplotlib inline\n",
        "    import pandas as pd\n",
        "\n",
        "    # import the data as a dataframe called gm\n",
        "    gm=pd.read_csv(data_source)\n",
        "\n",
        "    # a. Select the data for the specified countries\n",
        "\n",
        "    countries=gm[gm['country'].isin(ct_lst)] # replace the ---- with the second function parameter\n",
        "    countries.head()\n",
        "\n",
        "    # b. Create a pivot table where each column is one of the countries and the rows are the years\n",
        "    p_table=pd.pivot_table(countries,\n",
        "                            values='gdpPercap',\n",
        "                            index='year',\n",
        "                            columns='country'\n",
        "    ).round(decimals=2)\n",
        "\n",
        "    # View the top of the dataframe\n",
        "    print(p_table.head(),'\\n')\n",
        "\n",
        "    # c. Create the time series plot of the pivot table\n",
        "    plt.plot(p_table,)\n",
        "    plt.legend(ct_lst)\n"
      ],
      "execution_count": 18,
      "outputs": []
    },
    {
      "cell_type": "code",
      "metadata": {
        "id": "f1ibaJ-1VCFK",
        "colab": {
          "base_uri": "https://localhost:8080/",
          "height": 569
        },
        "outputId": "7bad51a0-43bc-4034-cf78-1ab29f22f962"
      },
      "source": [
        "# Run the function on the following data\n",
        "data_url = 'http://bit.ly/2cLzoxH'\n",
        "countries=['United States', 'China', 'United Kingdom', 'Brazil', 'India']\n",
        "\n",
        "time_series(data_url,countries)"
      ],
      "execution_count": 19,
      "outputs": [
        {
          "output_type": "stream",
          "name": "stdout",
          "text": [
            "country   Brazil   China   India  United Kingdom  United States\n",
            "year                                                           \n",
            "1952     2108.94  400.45  546.57         9979.51       13990.48\n",
            "1957     2487.37  575.99  590.06        11283.18       14847.13\n",
            "1962     3336.59  487.67  658.35        12477.18       16173.15\n",
            "1967     3429.86  612.71  700.77        14142.85       19530.37\n",
            "1972     4985.71  676.90  724.03        15895.12       21806.04 \n",
            "\n"
          ]
        },
        {
          "output_type": "display_data",
          "data": {
            "text/plain": [
              "<Figure size 640x480 with 1 Axes>"
            ],
            "image/png": "[encoded data removed]"
          },
          "metadata": {}
        }
      ]
    },
    {
      "cell_type": "markdown",
      "metadata": {
        "id": "EaTP0BasG1Qz"
      },
      "source": [
        "Expected Output\n",
        "```\n",
        "country   Brazil   China   India  United Kingdom  United States\n",
        "year                                                           \n",
        "1952     2108.94  400.45  546.57         9979.51       13990.48\n",
        "1957     2487.37  575.99  590.06        11283.18       14847.13\n",
        "1962     3336.59  487.67  658.35        12477.18       16173.15\n",
        "1967     3429.86  612.71  700.77        14142.85       19530.37\n",
        "1972     4985.71  676.90  724.03        15895.12       21806.04\n",
        "```\n",
        "\n",
        "![time_series](https://drive.google.com/uc?id=1-2S8hlyv6ewCfFpDcxjY2b3PUqdMW2Lf)"
      ]
    },
    {
      "cell_type": "markdown",
      "metadata": {
        "id": "rSt6gQgsSnZF"
      },
      "source": [
        "### Problem 5:  Filtering\n",
        "This function will accept three arguments, the data source, the year, and a variable to analyze. The objective of the function is to calculate the percentage of countries for a given year that have below the average of the input variable.\n",
        "\n",
        "For example, we can use the function to find the percent of countries in 2002 that had below average life expectancy."
      ]
    },
    {
      "cell_type": "code",
      "metadata": {
        "id": "t5UFdKFASnZG"
      },
      "source": [
        "def percent_below(data_source, y, var):\n",
        "    ## Import necessary libraries\n",
        "    import numpy as np\n",
        "    import pandas as pd\n",
        "\n",
        "    # import the data as a dataframe called gm\n",
        "    gm=pd.read_csv(data_source)\n",
        "\n",
        "    # create the dataframe for the selected year\n",
        "    y=int(y)\n",
        "    gm_y=gm[gm['year'] ==y].round(decimals=2)\n",
        "    print(gm_y.head(),'\\n')\n",
        "\n",
        "    # find the mean of the variable (3rd function parameter)\n",
        "    mean_le=np.mean(gm_y[var])\n",
        "    print(round(mean_le,2),'\\n')\n",
        "\n",
        "    # Code:\n",
        "    gm_y['below']=np.where(gm_y[var]<np.mean(gm_y[var]),1,0).round(decimals=2)\n",
        "    gm_y.head()\n",
        "    pct=gm_y['below'].sum()/gm_y['below'].count()*100\n",
        "    print(round(pct,2), '\\n')\n",
        "    txt=\"{percent:.2f}% of countries have below average {variable}\"\n",
        "    print(txt.format(percent=pct, variable=var))\n"
      ],
      "execution_count": 24,
      "outputs": []
    },
    {
      "cell_type": "code",
      "metadata": {
        "id": "pLkDu52Zc9jA",
        "colab": {
          "base_uri": "https://localhost:8080/"
        },
        "outputId": "3b767d3c-a348-479c-fa14-63d143092efb"
      },
      "source": [
        "# Run the function on the following data\n",
        "data_url = 'http://bit.ly/2cLzoxH'\n",
        "\n",
        "percent_below(data_url, 2002, 'lifeExp')"
      ],
      "execution_count": 25,
      "outputs": [
        {
          "output_type": "stream",
          "name": "stdout",
          "text": [
            "        country  year         pop continent  lifeExp  gdpPercap\n",
            "10  Afghanistan  2002  25268405.0      Asia    42.13     726.73\n",
            "22      Albania  2002   3508512.0    Europe    75.65    4604.21\n",
            "34      Algeria  2002  31287142.0    Africa    70.99    5288.04\n",
            "46       Angola  2002  10866106.0    Africa    41.00    2773.29\n",
            "58    Argentina  2002  38331121.0  Americas    74.34    8797.64 \n",
            "\n",
            "65.69 \n",
            "\n",
            "40.14 \n",
            "\n",
            "40.14% of countries have below average lifeExp\n"
          ]
        }
      ]
    },
    {
      "cell_type": "markdown",
      "metadata": {
        "id": "TLWw6emKHIDx"
      },
      "source": [
        "Expected Output\n",
        "```\n",
        "        country  year         pop continent  lifeExp  gdpPercap\n",
        "10  Afghanistan  2002  25268405.0      Asia    42.13     726.73\n",
        "22      Albania  2002   3508512.0    Europe    75.65    4604.21\n",
        "34      Algeria  2002  31287142.0    Africa    70.99    5288.04\n",
        "46       Angola  2002  10866106.0    Africa    41.00    2773.29\n",
        "58    Argentina  2002  38331121.0  Americas    74.34    8797.64\n",
        "\n",
        "65.69\n",
        "\n",
        "40.14\n",
        "\n",
        "40.14% of countries have below average lifeExp\n",
        "```"
      ]
    }
  ]
}