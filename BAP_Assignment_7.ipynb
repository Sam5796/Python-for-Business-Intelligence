{
  "nbformat": 4,
  "nbformat_minor": 0,
  "metadata": {
    "colab": {
      "provenance": []
    },
    "kernelspec": {
      "display_name": "Python 3",
      "language": "python",
      "name": "python3"
    },
    "language_info": {
      "codemirror_mode": {
        "name": "ipython",
        "version": 3
      },
      "file_extension": ".py",
      "mimetype": "text/x-python",
      "name": "python",
      "nbconvert_exporter": "python",
      "pygments_lexer": "ipython3",
      "version": "3.7.1"
    }
  },
  "cells": [
    {
      "cell_type": "markdown",
      "metadata": {
        "id": "x6Ii_dYH17MZ"
      },
      "source": [
        "### Business Applications of Python\n",
        "### Assignment 7: Data Management and Manipulation\n",
        "Please complete these exercises to the best of your abilities. Please include code to invoke each of your functions to demonstrate the functionality. Write comments throughout your code to explain steps. If you run into a persistent error, please demonstrate your efforts to resolve it; search the web for the error, see if you can get closer to figuring it out. Document what you tried in order to fix the problem."
      ]
    },
    {
      "cell_type": "markdown",
      "metadata": {
        "id": "jxyXxofZ4LHX"
      },
      "source": [
        "#### Run this code block to avoid seeing warnings"
      ]
    },
    {
      "cell_type": "code",
      "metadata": {
        "id": "3lJ84VHapH3_"
      },
      "source": [
        "# Suppress warnings\n",
        "import warnings\n",
        "warnings.filterwarnings(\"ignore\")"
      ],
      "execution_count": 1,
      "outputs": []
    },
    {
      "cell_type": "markdown",
      "metadata": {
        "id": "kpUOYSCF17Md"
      },
      "source": [
        "### Problem 1. Numpy Array Basics\n",
        "Add your code to the function below to perform the following opperations.\n",
        "   \n",
        "a.  Create an array using data of the following form, specify the data type as \"int\".\n",
        "```\n",
        "[[1,2,3,4,5],[6,7,8,9,10],[11,12,13,14,15],[16,17,18,19,20],[21,22,23,24,25]]\n",
        "```\n",
        "b.  Access the first and last entries of the array.\n",
        "\n",
        "c.  Access the first row and the first column of the array.\n",
        "\n",
        "d.  Find the mean and standard deviation of the second column. Round to one decimal place."
      ]
    },
    {
      "cell_type": "code",
      "metadata": {
        "id": "yLJOqDTY17Me"
      },
      "source": [
        "def array_opp(lst):\n",
        "    # a. Create an array, specify the data type as int\n",
        "    import numpy as np\n",
        "    a = np.array(lst,int)\n",
        "    print(a, '\\n')\n",
        "\n",
        "    #b. Access the first and last entry of the array\n",
        "    first = a[0][0]\n",
        "    print(\"first entry --->\", first)\n",
        "\n",
        "    last = a[-1][-1]\n",
        "    print(\"last entry --->\", last, '\\n')\n",
        "\n",
        "    #c. Access the first row and the first column of the array\n",
        "    first_row= a[0,:]\n",
        "    print(\"first row --->\", first_row)\n",
        "\n",
        "    first_col= a[:,0]\n",
        "    print(\"first column --->\", first_col, '\\n')\n",
        "\n",
        "    #d.  Find the mean and standard deviation of the second column. Round to 1 decimal place.\n",
        "    m= round(np.mean(a[:,1]),1)\n",
        "    s= round(np.std(a[:,1]),1)\n",
        "\n",
        "\n",
        "    print('mean --->',round(m,1) )\n",
        "    print('standard deviation --->',round(s,1))\n"
      ],
      "execution_count": 10,
      "outputs": []
    },
    {
      "cell_type": "markdown",
      "metadata": {
        "id": "UXS_O-nP4xeL"
      },
      "source": [
        "Test the function by running the code block below"
      ]
    },
    {
      "cell_type": "code",
      "metadata": {
        "id": "FvtV5XVp0iet",
        "colab": {
          "base_uri": "https://localhost:8080/"
        },
        "outputId": "1c16fbb6-3eba-464e-a100-293bd8cd0444"
      },
      "source": [
        "data=[[1,2,3,4,5],[6,7,8,9,10],[11,12,13,14,15],[16,17,18,19,20],[21,22,23,24,25]]\n",
        "\n",
        "array_opp(data)"
      ],
      "execution_count": 11,
      "outputs": [
        {
          "output_type": "stream",
          "name": "stdout",
          "text": [
            "[[ 1  2  3  4  5]\n",
            " [ 6  7  8  9 10]\n",
            " [11 12 13 14 15]\n",
            " [16 17 18 19 20]\n",
            " [21 22 23 24 25]] \n",
            "\n",
            "first entry ---> 1\n",
            "last entry ---> 25 \n",
            "\n",
            "first row ---> [1 2 3 4 5]\n",
            "first column ---> [ 1  6 11 16 21] \n",
            "\n",
            "mean ---> 12.0\n",
            "standard deviation ---> 7.1\n"
          ]
        }
      ]
    },
    {
      "cell_type": "markdown",
      "metadata": {
        "id": "XCjKFpem36Bv"
      },
      "source": [
        "Expected Output\n",
        "```\n",
        "[[ 1  2  3  4  5]\n",
        " [ 6  7  8  9 10]\n",
        " [11 12 13 14 15]\n",
        " [16 17 18 19 20]\n",
        " [21 22 23 24 25]]\n",
        "\n",
        "first entry ---> 1\n",
        "last entry ---> 25\n",
        "\n",
        "first row ---> [1 2 3 4 5]\n",
        "first column ---> [ 1  6 11 16 21]\n",
        "\n",
        "mean ---> 12.0\n",
        "standard deviation ---> 7.1\n",
        "```"
      ]
    },
    {
      "cell_type": "markdown",
      "metadata": {
        "id": "x8ITWfxl17Mk"
      },
      "source": [
        "### Problem 2. Opperations with Numpy Arrays\n",
        "   \n",
        "Add your code to the function below to perform the following opperations.\n",
        "  \n",
        "a. Slice off the outer edges of the array, that is, remove the first and last row and the first and last column.\n",
        "   \n",
        "b. Use a numpy command to get the dimensions of the array.\n",
        "   \n",
        "c. Use another numpy command to get the number of items in the array.\n",
        "   \n",
        "d. Reshape the array into a one dimensional array with dimensions 1 x 25.\n",
        "   \n",
        "e. Use selection to identify all even numbers in the array with a 1, use a 0 to indicate an odd number."
      ]
    },
    {
      "cell_type": "code",
      "metadata": {
        "id": "W0rEkK3e17Ml"
      },
      "source": [
        "def array_manipulations(lst):\n",
        "    # first, create the array\n",
        "    import numpy as np\n",
        "    a = np.array(lst,int)\n",
        "\n",
        "    # a. Slice off the outer edges of the array, that is,\n",
        "    # remove the first and last row and the first and last column.\n",
        "    print(\"middle of array:\")\n",
        "    middle= a[1:-1,1:-1]\n",
        "    print(middle)\n",
        "\n",
        "    # b. Use a command to get the dimensions of the array\n",
        "    print('\\n')\n",
        "    shp= a.shape\n",
        "    print(\"array shape --->\",shp)\n",
        "\n",
        "    # c. Use another command to get the number of items in the array\n",
        "    print('\\n')\n",
        "    size= a.size\n",
        "    print(\"array size --->\",size)\n",
        "\n",
        "    # d. Reshape the array into a one dimensional array\n",
        "    print('\\n')\n",
        "    new= a.reshape(1,25)\n",
        "    print(new)\n",
        "\n",
        "    # e. Use selection to identify all even numbers in the array\n",
        "    print('\\n')\n",
        "    print(\"even number indicators\")\n",
        "    filter= np.where(a%2==0,1,0)\n",
        "    print(filter)"
      ],
      "execution_count": 14,
      "outputs": []
    },
    {
      "cell_type": "markdown",
      "metadata": {
        "id": "HpBESH5K42K2"
      },
      "source": [
        "Test the function by running the code block below"
      ]
    },
    {
      "cell_type": "code",
      "metadata": {
        "id": "os5lcWAd448-",
        "colab": {
          "base_uri": "https://localhost:8080/"
        },
        "outputId": "8b7563aa-895f-46e2-b039-2211d741c2ff"
      },
      "source": [
        "data = [[1,2,3,4,5],[6,7,8,9,10],[11,12,13,14,15],[16,17,18,19,20],[21,22,23,24,25]]\n",
        "array_manipulations(data)"
      ],
      "execution_count": 15,
      "outputs": [
        {
          "output_type": "stream",
          "name": "stdout",
          "text": [
            "middle of array:\n",
            "[[ 7  8  9]\n",
            " [12 13 14]\n",
            " [17 18 19]]\n",
            "\n",
            "\n",
            "array shape ---> (5, 5)\n",
            "\n",
            "\n",
            "array size ---> 25\n",
            "\n",
            "\n",
            "[[ 1  2  3  4  5  6  7  8  9 10 11 12 13 14 15 16 17 18 19 20 21 22 23 24\n",
            "  25]]\n",
            "\n",
            "\n",
            "even number indicators\n",
            "[[0 1 0 1 0]\n",
            " [1 0 1 0 1]\n",
            " [0 1 0 1 0]\n",
            " [1 0 1 0 1]\n",
            " [0 1 0 1 0]]\n"
          ]
        }
      ]
    },
    {
      "cell_type": "markdown",
      "metadata": {
        "id": "vpIn-Icj5cX5"
      },
      "source": [
        "Expected Output\n",
        "```\n",
        "middle of array\n",
        "[[ 7  8  9]\n",
        " [12 13 14]\n",
        " [17 18 19]]\n",
        "\n",
        "\n",
        "array shape ---> (5, 5)\n",
        "\n",
        "\n",
        "array size ---> 25\n",
        "\n",
        "\n",
        "[[ 1  2  3  4  5  6  7  8  9 10 11 12 13 14 15 16 17 18 19 20 21 22 23 24 25]]\n",
        "\n",
        "\n",
        "even number indicators\n",
        "[[0 1 0 1 0]\n",
        " [1 0 1 0 1]\n",
        " [0 1 0 1 0]\n",
        " [1 0 1 0 1]\n",
        " [0 1 0 1 0]]\n",
        "```"
      ]
    },
    {
      "cell_type": "markdown",
      "metadata": {
        "id": "xlToBo8M17Mr"
      },
      "source": [
        "### Problem 3. The datetime library (with pandas)\n",
        "\n",
        "Add your code to the function below to perform the following opperations.\n",
        "\n",
        "a. Create variable that stores the exact time that the space shuttle headed to the moon in 1969 (July, 16th, 1969 at 9:32 am). The program will default to the current time zone.\n",
        "\n",
        "b.  Create a variable that stores the exact time that the Neil Armstrong stepped on the surface of the moon (July, 19th, 1969 at 10:56 pm EDT or 22:56 EDT).\n",
        "\n",
        "c.  Use the date_range() function in pandas to create a time stamp for each day between the times you found in parts a and b.\n",
        "\n",
        "[see reference](https://www.history.com/topics/space-exploration/moon-landing-1969)"
      ]
    },
    {
      "cell_type": "code",
      "metadata": {
        "id": "poaXv0uu17Ms"
      },
      "source": [
        "def dates_times(): # function does not require an argument\n",
        "    import pandas as pd\n",
        "    from datetime import datetime\n",
        "    # a. create a variable to store takeoff time\n",
        "    takeoff = datetime(1969,7,16,9,32)\n",
        "    print(takeoff,'\\n')\n",
        "\n",
        "    # b. create a variable to store shuttle landing time\n",
        "    land = datetime(1969,7,19,22,56)\n",
        "    print(land,'\\n')\n",
        "\n",
        "    # c. Use the date_range() function in pandas to create a time stamp for each day\n",
        "    days=pd.date_range(start= takeoff, end=land)\n",
        "    print(days)\n",
        "\n"
      ],
      "execution_count": 16,
      "outputs": []
    },
    {
      "cell_type": "markdown",
      "metadata": {
        "id": "-9RwdTdH_M2Z"
      },
      "source": [
        "Test the function by running the code block below"
      ]
    },
    {
      "cell_type": "code",
      "metadata": {
        "id": "h2Uug_KB_RXA",
        "colab": {
          "base_uri": "https://localhost:8080/"
        },
        "outputId": "3c980456-2a6e-456e-a376-af97e1b21e06"
      },
      "source": [
        "dates_times() # function has no argument"
      ],
      "execution_count": 17,
      "outputs": [
        {
          "output_type": "stream",
          "name": "stdout",
          "text": [
            "1969-07-16 09:32:00 \n",
            "\n",
            "1969-07-19 22:56:00 \n",
            "\n",
            "DatetimeIndex(['1969-07-16 09:32:00', '1969-07-17 09:32:00',\n",
            "               '1969-07-18 09:32:00', '1969-07-19 09:32:00'],\n",
            "              dtype='datetime64[ns]', freq='D')\n"
          ]
        }
      ]
    },
    {
      "cell_type": "markdown",
      "metadata": {
        "id": "rOc1r9TtXh09"
      },
      "source": [
        "Expected Output\n",
        "```\n",
        "1969-07-16 09:32:00\n",
        "\n",
        "1969-07-19 22:56:00\n",
        "\n",
        "DatetimeIndex(['1969-07-16 09:32:00', '1969-07-17 09:32:00',\n",
        "               '1969-07-18 09:32:00', '1969-07-19 09:32:00'],\n",
        "              dtype='datetime64[ns]', freq='D')\n",
        "```"
      ]
    },
    {
      "cell_type": "markdown",
      "metadata": {
        "id": "9AV4De3f17M3"
      },
      "source": [
        "### Problem 4. Pandas Dataframe Basics\n",
        "\n",
        "Add your code to the function below to perform the following opperations.\n",
        "  \n",
        "a. Create a dataframe using the data of the form\n",
        "```\n",
        "     [['57640','2018-02-13', 299.53,10],\n",
        "      ['52862','2018-04-16', 95.54,33],\n",
        "      ['73637','2018-11-06',307.83,68],\n",
        "      ['80392','2018-12-03',339.34,7],\n",
        "      ['18811','2018-12-11',375.60,56]]\n",
        "```  \n",
        "Make sure the 'id' is set as the row index.  \n",
        "\n",
        "b. Print the two last columns, order_total and time.  \n",
        "\n",
        "c. Find the mean of the order_total column.  \n",
        "\n",
        "d. Print the second row of the dataframe.  "
      ]
    },
    {
      "cell_type": "code",
      "metadata": {
        "id": "XOpgSC0J17M4"
      },
      "source": [
        "def pandas_opp(d):\n",
        "    import pandas as pd\n",
        "    import numpy as np\n",
        "\n",
        "    # a. Create a dataframe from the input and assign column names.\n",
        "    col_names=['id','last_order','order_total','time']\n",
        "    df=pd.DataFrame(d,columns=col_names)\n",
        "    # set the index as the 'id'\n",
        "    df.set_index('id',inplace=True)\n",
        "    print(df.head())\n",
        "\n",
        "    # b. Print the two last columns, order_total and time.\n",
        "    print('\\n')\n",
        "    ott=df[['order_total','time']]\n",
        "    print(ott)\n",
        "\n",
        "    # c. Find the mean of the order_total column round to one decimal place\n",
        "    print('\\n')\n",
        "    m= round(np.mean(df['order_total']),1)\n",
        "    print('mean order total --->', round(m,1))\n",
        "\n",
        "    # d. Print the second row of the dataframe, use the iloc[[]] method\n",
        "    print('\\n')\n",
        "    sr=df.iloc[[1]]\n",
        "    print(sr)"
      ],
      "execution_count": 23,
      "outputs": []
    },
    {
      "cell_type": "markdown",
      "metadata": {
        "id": "yC4Z0mPyGn7L"
      },
      "source": [
        "Test the function by running the code block below"
      ]
    },
    {
      "cell_type": "code",
      "metadata": {
        "id": "L1fvvIfLFwW1",
        "colab": {
          "base_uri": "https://localhost:8080/"
        },
        "outputId": "151d7fe5-fa3e-43ad-c623-8fb612cc5a69"
      },
      "source": [
        "data=[['57640','2018-02-13', 299.53,10],\n",
        "      ['52862','2018-04-16', 95.54,33],\n",
        "      ['73637','2018-11-06',307.83,68],\n",
        "      ['80392','2018-12-03',339.34,7],\n",
        "      ['18811','2018-12-11',375.60,56]]\n",
        "\n",
        "pandas_opp(data)"
      ],
      "execution_count": 24,
      "outputs": [
        {
          "output_type": "stream",
          "name": "stdout",
          "text": [
            "       last_order  order_total  time\n",
            "id                                  \n",
            "57640  2018-02-13       299.53    10\n",
            "52862  2018-04-16        95.54    33\n",
            "73637  2018-11-06       307.83    68\n",
            "80392  2018-12-03       339.34     7\n",
            "18811  2018-12-11       375.60    56\n",
            "\n",
            "\n",
            "       order_total  time\n",
            "id                      \n",
            "57640       299.53    10\n",
            "52862        95.54    33\n",
            "73637       307.83    68\n",
            "80392       339.34     7\n",
            "18811       375.60    56\n",
            "\n",
            "\n",
            "mean order total ---> 283.6\n",
            "\n",
            "\n",
            "       last_order  order_total  time\n",
            "id                                  \n",
            "52862  2018-04-16        95.54    33\n"
          ]
        }
      ]
    },
    {
      "cell_type": "markdown",
      "metadata": {
        "id": "bwHlgHO6YbIq"
      },
      "source": [
        "Expected Output\n",
        "```\n",
        "       last_order  order_total  time\n",
        "id                                  \n",
        "57640  2018-02-13       299.53    10\n",
        "52862  2018-04-16        95.54    33\n",
        "73637  2018-11-06       307.83    68\n",
        "80392  2018-12-03       339.34     7\n",
        "18811  2018-12-11       375.60    56\n",
        "\n",
        "\n",
        "       order_total  time\n",
        "id                      \n",
        "57640       299.53    10\n",
        "52862        95.54    33\n",
        "73637       307.83    68\n",
        "80392       339.34     7\n",
        "18811       375.60    56\n",
        "\n",
        "\n",
        "mean order total ---> 283.6\n",
        "\n",
        "\n",
        "       last_order  order_total  time\n",
        "id                                  \n",
        "52862  2018-04-16        95.54    33\n",
        "```"
      ]
    },
    {
      "cell_type": "markdown",
      "metadata": {
        "id": "QAblVo-117M9"
      },
      "source": [
        "### 5. Operations with Pandas Dataframes\n",
        "\n",
        "This exercise will help us practice working with data frames using the apply method. Our goal is to build a function that creates a data frame from a list of dictionaries and then converts the temperatures. We start by building a function to perform the conversion which is then used inside the next function.\n",
        "   \n",
        "a. Build a small function to convert degrees Fahrenheit to Celsius using the formula (degrees F - 32) x 5/9=degrees C. Round the output to the nearest whole number.\n",
        "   \n",
        "b. Create a pandas data frame using a list of dictionaries as the input.\n",
        "     \n",
        "c.  Change all of the temperatures in the existing data frame from Fahrenheit to Celsius using the convert function built above. Return the first few lines of the transformed dictionary using the .head() method."
      ]
    },
    {
      "cell_type": "code",
      "metadata": {
        "id": "ToioMiI317M-",
        "colab": {
          "base_uri": "https://localhost:8080/"
        },
        "outputId": "c2b7d870-90b1-480d-89b2-b0002980ddbf"
      },
      "source": [
        "#a. create a small function to convert degrees Farenheit to degrees Celsius.\n",
        "\n",
        "def convert(num):\n",
        "    # conversion calculation\n",
        "    c= round((num-32)*5/9)\n",
        "    # return the result\n",
        "    return c\n",
        "\n",
        "print(convert(60))\n",
        "\n",
        "# Build a function to create the Pandas Dataframe and convert the temperatures into degrees Celsius\n",
        "def pandas_temp(d):\n",
        "    import pandas as pd\n",
        "    # b. Create the data frame called 'forecast'\n",
        "    forecast= pd.DataFrame(d)\n",
        "\n",
        "    # c. Convert to Celsius\n",
        "\n",
        "    # Use the apply method to convert all of the temperatures\n",
        "    forecast['temperature']= forecast['temperature'].apply(convert)\n",
        "\n",
        "    # examine the data\n",
        "    return forecast.head()\n"
      ],
      "execution_count": 26,
      "outputs": [
        {
          "output_type": "stream",
          "name": "stdout",
          "text": [
            "16\n"
          ]
        }
      ]
    },
    {
      "cell_type": "markdown",
      "metadata": {
        "id": "oct1iKCrGufE"
      },
      "source": [
        "Test the function by running the code block below"
      ]
    },
    {
      "cell_type": "code",
      "metadata": {
        "id": "zYHvrTuEGtWp",
        "colab": {
          "base_uri": "https://localhost:8080/",
          "height": 206
        },
        "outputId": "36499762-f104-411e-bd03-4968cfab5465"
      },
      "source": [
        "Blacksburg_Forecast = [ { 'humidity' :  20, 'temperature' : 78, 'wind' :  7} ,\n",
        "                        { 'humidity' :  50, 'temperature' : 61, 'wind' : 10} ,\n",
        "                        { 'humidity' : 100, 'temperature' : 81, 'wind' :  5} ,\n",
        "                        { 'humidity' :  90, 'temperature' : 62, 'wind' : 15} ,\n",
        "                        { 'humidity' :  30, 'temperature' : 84, 'wind' : 19} ,\n",
        "                        { 'humidity' :   0, 'temperature' : 66, 'wind' : 28} ,\n",
        "                        { 'humidity' :   0, 'temperature' : 87, 'wind' : 12} ,\n",
        "                        { 'humidity' :   0, 'temperature' : 68, 'wind' : 14} ,\n",
        "                        { 'humidity' :   0, 'temperature' : 86, 'wind' :  4} ,\n",
        "                        { 'humidity' :  60, 'temperature' : 68, 'wind' :  0}\n",
        "                       ]\n",
        "\n",
        "pandas_temp(Blacksburg_Forecast)"
      ],
      "execution_count": 27,
      "outputs": [
        {
          "output_type": "execute_result",
          "data": {
            "text/plain": [
              "   humidity  temperature  wind\n",
              "0        20           26     7\n",
              "1        50           16    10\n",
              "2       100           27     5\n",
              "3        90           17    15\n",
              "4        30           29    19"
            ],
            "text/html": [
              "\n",
              "  <div id=\"df-33dedc14-e06f-450a-b319-cc42ce3e623a\" class=\"colab-df-container\">\n",
              "    <div>\n",
              "<style scoped>\n",
              "    .dataframe tbody tr th:only-of-type {\n",
              "        vertical-align: middle;\n",
              "    }\n",
              "\n",
              "    .dataframe tbody tr th {\n",
              "        vertical-align: top;\n",
              "    }\n",
              "\n",
              "    .dataframe thead th {\n",
              "        text-align: right;\n",
              "    }\n",
              "</style>\n",
              "<table border=\"1\" class=\"dataframe\">\n",
              "  <thead>\n",
              "    <tr style=\"text-align: right;\">\n",
              "      <th></th>\n",
              "      <th>humidity</th>\n",
              "      <th>temperature</th>\n",
              "      <th>wind</th>\n",
              "    </tr>\n",
              "  </thead>\n",
              "  <tbody>\n",
              "    <tr>\n",
              "      <th>0</th>\n",
              "      <td>20</td>\n",
              "      <td>26</td>\n",
              "      <td>7</td>\n",
              "    </tr>\n",
              "    <tr>\n",
              "      <th>1</th>\n",
              "      <td>50</td>\n",
              "      <td>16</td>\n",
              "      <td>10</td>\n",
              "    </tr>\n",
              "    <tr>\n",
              "      <th>2</th>\n",
              "      <td>100</td>\n",
              "      <td>27</td>\n",
              "      <td>5</td>\n",
              "    </tr>\n",
              "    <tr>\n",
              "      <th>3</th>\n",
              "      <td>90</td>\n",
              "      <td>17</td>\n",
              "      <td>15</td>\n",
              "    </tr>\n",
              "    <tr>\n",
              "      <th>4</th>\n",
              "      <td>30</td>\n",
              "      <td>29</td>\n",
              "      <td>19</td>\n",
              "    </tr>\n",
              "  </tbody>\n",
              "</table>\n",
              "</div>\n",
              "    <div class=\"colab-df-buttons\">\n",
              "\n",
              "  <div class=\"colab-df-container\">\n",
              "    <button class=\"colab-df-convert\" onclick=\"convertToInteractive('df-33dedc14-e06f-450a-b319-cc42ce3e623a')\"\n",
              "            title=\"Convert this dataframe to an interactive table.\"\n",
              "            style=\"display:none;\">\n",
              "\n",
              "  <svg xmlns=\"http://www.w3.org/2000/svg\" height=\"24px\" viewBox=\"0 -960 960 960\">\n",
              "    <path d=\"M120-120v-720h720v720H120Zm60-500h600v-160H180v160Zm220 220h160v-160H400v160Zm0 220h160v-160H400v160ZM180-400h160v-160H180v160Zm440 0h160v-160H620v160ZM180-180h160v-160H180v160Zm440 0h160v-160H620v160Z\"/>\n",
              "  </svg>\n",
              "    </button>\n",
              "\n",
              "  <style>\n",
              "    .colab-df-container {\n",
              "      display:flex;\n",
              "      gap: 12px;\n",
              "    }\n",
              "\n",
              "    .colab-df-convert {\n",
              "      background-color: #E8F0FE;\n",
              "      border: none;\n",
              "      border-radius: 50%;\n",
              "      cursor: pointer;\n",
              "      display: none;\n",
              "      fill: #1967D2;\n",
              "      height: 32px;\n",
              "      padding: 0 0 0 0;\n",
              "      width: 32px;\n",
              "    }\n",
              "\n",
              "    .colab-df-convert:hover {\n",
              "      background-color: #E2EBFA;\n",
              "      box-shadow: 0px 1px 2px rgba(60, 64, 67, 0.3), 0px 1px 3px 1px rgba(60, 64, 67, 0.15);\n",
              "      fill: #174EA6;\n",
              "    }\n",
              "\n",
              "    .colab-df-buttons div {\n",
              "      margin-bottom: 4px;\n",
              "    }\n",
              "\n",
              "    [theme=dark] .colab-df-convert {\n",
              "      background-color: #3B4455;\n",
              "      fill: #D2E3FC;\n",
              "    }\n",
              "\n",
              "    [theme=dark] .colab-df-convert:hover {\n",
              "      background-color: #434B5C;\n",
              "      box-shadow: 0px 1px 3px 1px rgba(0, 0, 0, 0.15);\n",
              "      filter: drop-shadow(0px 1px 2px rgba(0, 0, 0, 0.3));\n",
              "      fill: #FFFFFF;\n",
              "    }\n",
              "  </style>\n",
              "\n",
              "    <script>\n",
              "      const buttonEl =\n",
              "        document.querySelector('#df-33dedc14-e06f-450a-b319-cc42ce3e623a button.colab-df-convert');\n",
              "      buttonEl.style.display =\n",
              "        google.colab.kernel.accessAllowed ? 'block' : 'none';\n",
              "\n",
              "      async function convertToInteractive(key) {\n",
              "        const element = document.querySelector('#df-33dedc14-e06f-450a-b319-cc42ce3e623a');\n",
              "        const dataTable =\n",
              "          await google.colab.kernel.invokeFunction('convertToInteractive',\n",
              "                                                    [key], {});\n",
              "        if (!dataTable) return;\n",
              "\n",
              "        const docLinkHtml = 'Like what you see? Visit the ' +\n",
              "          '<a target=\"_blank\" href=https://colab.research.google.com/notebooks/data_table.ipynb>data table notebook</a>'\n",
              "          + ' to learn more about interactive tables.';\n",
              "        element.innerHTML = '';\n",
              "        dataTable['output_type'] = 'display_data';\n",
              "        await google.colab.output.renderOutput(dataTable, element);\n",
              "        const docLink = document.createElement('div');\n",
              "        docLink.innerHTML = docLinkHtml;\n",
              "        element.appendChild(docLink);\n",
              "      }\n",
              "    </script>\n",
              "  </div>\n",
              "\n",
              "\n",
              "<div id=\"df-34a4f60a-140c-43e2-a116-f9e094b2307c\">\n",
              "  <button class=\"colab-df-quickchart\" onclick=\"quickchart('df-34a4f60a-140c-43e2-a116-f9e094b2307c')\"\n",
              "            title=\"Suggest charts\"\n",
              "            style=\"display:none;\">\n",
              "\n",
              "<svg xmlns=\"http://www.w3.org/2000/svg\" height=\"24px\"viewBox=\"0 0 24 24\"\n",
              "     width=\"24px\">\n",
              "    <g>\n",
              "        <path d=\"M19 3H5c-1.1 0-2 .9-2 2v14c0 1.1.9 2 2 2h14c1.1 0 2-.9 2-2V5c0-1.1-.9-2-2-2zM9 17H7v-7h2v7zm4 0h-2V7h2v10zm4 0h-2v-4h2v4z\"/>\n",
              "    </g>\n",
              "</svg>\n",
              "  </button>\n",
              "\n",
              "<style>\n",
              "  .colab-df-quickchart {\n",
              "      --bg-color: #E8F0FE;\n",
              "      --fill-color: #1967D2;\n",
              "      --hover-bg-color: #E2EBFA;\n",
              "      --hover-fill-color: #174EA6;\n",
              "      --disabled-fill-color: #AAA;\n",
              "      --disabled-bg-color: #DDD;\n",
              "  }\n",
              "\n",
              "  [theme=dark] .colab-df-quickchart {\n",
              "      --bg-color: #3B4455;\n",
              "      --fill-color: #D2E3FC;\n",
              "      --hover-bg-color: #434B5C;\n",
              "      --hover-fill-color: #FFFFFF;\n",
              "      --disabled-bg-color: #3B4455;\n",
              "      --disabled-fill-color: #666;\n",
              "  }\n",
              "\n",
              "  .colab-df-quickchart {\n",
              "    background-color: var(--bg-color);\n",
              "    border: none;\n",
              "    border-radius: 50%;\n",
              "    cursor: pointer;\n",
              "    display: none;\n",
              "    fill: var(--fill-color);\n",
              "    height: 32px;\n",
              "    padding: 0;\n",
              "    width: 32px;\n",
              "  }\n",
              "\n",
              "  .colab-df-quickchart:hover {\n",
              "    background-color: var(--hover-bg-color);\n",
              "    box-shadow: 0 1px 2px rgba(60, 64, 67, 0.3), 0 1px 3px 1px rgba(60, 64, 67, 0.15);\n",
              "    fill: var(--button-hover-fill-color);\n",
              "  }\n",
              "\n",
              "  .colab-df-quickchart-complete:disabled,\n",
              "  .colab-df-quickchart-complete:disabled:hover {\n",
              "    background-color: var(--disabled-bg-color);\n",
              "    fill: var(--disabled-fill-color);\n",
              "    box-shadow: none;\n",
              "  }\n",
              "\n",
              "  .colab-df-spinner {\n",
              "    border: 2px solid var(--fill-color);\n",
              "    border-color: transparent;\n",
              "    border-bottom-color: var(--fill-color);\n",
              "    animation:\n",
              "      spin 1s steps(1) infinite;\n",
              "  }\n",
              "\n",
              "  @keyframes spin {\n",
              "    0% {\n",
              "      border-color: transparent;\n",
              "      border-bottom-color: var(--fill-color);\n",
              "      border-left-color: var(--fill-color);\n",
              "    }\n",
              "    20% {\n",
              "      border-color: transparent;\n",
              "      border-left-color: var(--fill-color);\n",
              "      border-top-color: var(--fill-color);\n",
              "    }\n",
              "    30% {\n",
              "      border-color: transparent;\n",
              "      border-left-color: var(--fill-color);\n",
              "      border-top-color: var(--fill-color);\n",
              "      border-right-color: var(--fill-color);\n",
              "    }\n",
              "    40% {\n",
              "      border-color: transparent;\n",
              "      border-right-color: var(--fill-color);\n",
              "      border-top-color: var(--fill-color);\n",
              "    }\n",
              "    60% {\n",
              "      border-color: transparent;\n",
              "      border-right-color: var(--fill-color);\n",
              "    }\n",
              "    80% {\n",
              "      border-color: transparent;\n",
              "      border-right-color: var(--fill-color);\n",
              "      border-bottom-color: var(--fill-color);\n",
              "    }\n",
              "    90% {\n",
              "      border-color: transparent;\n",
              "      border-bottom-color: var(--fill-color);\n",
              "    }\n",
              "  }\n",
              "</style>\n",
              "\n",
              "  <script>\n",
              "    async function quickchart(key) {\n",
              "      const quickchartButtonEl =\n",
              "        document.querySelector('#' + key + ' button');\n",
              "      quickchartButtonEl.disabled = true;  // To prevent multiple clicks.\n",
              "      quickchartButtonEl.classList.add('colab-df-spinner');\n",
              "      try {\n",
              "        const charts = await google.colab.kernel.invokeFunction(\n",
              "            'suggestCharts', [key], {});\n",
              "      } catch (error) {\n",
              "        console.error('Error during call to suggestCharts:', error);\n",
              "      }\n",
              "      quickchartButtonEl.classList.remove('colab-df-spinner');\n",
              "      quickchartButtonEl.classList.add('colab-df-quickchart-complete');\n",
              "    }\n",
              "    (() => {\n",
              "      let quickchartButtonEl =\n",
              "        document.querySelector('#df-34a4f60a-140c-43e2-a116-f9e094b2307c button');\n",
              "      quickchartButtonEl.style.display =\n",
              "        google.colab.kernel.accessAllowed ? 'block' : 'none';\n",
              "    })();\n",
              "  </script>\n",
              "</div>\n",
              "\n",
              "    </div>\n",
              "  </div>\n"
            ],
            "application/vnd.google.colaboratory.intrinsic+json": {
              "type": "dataframe",
              "summary": "{\n  \"name\": \"pandas_temp(Blacksburg_Forecast)\",\n  \"rows\": 5,\n  \"fields\": [\n    {\n      \"column\": \"humidity\",\n      \"properties\": {\n        \"dtype\": \"number\",\n        \"std\": 35,\n        \"min\": 20,\n        \"max\": 100,\n        \"num_unique_values\": 5,\n        \"samples\": [\n          50,\n          30,\n          100\n        ],\n        \"semantic_type\": \"\",\n        \"description\": \"\"\n      }\n    },\n    {\n      \"column\": \"temperature\",\n      \"properties\": {\n        \"dtype\": \"number\",\n        \"std\": 6,\n        \"min\": 16,\n        \"max\": 29,\n        \"num_unique_values\": 5,\n        \"samples\": [\n          16,\n          29,\n          27\n        ],\n        \"semantic_type\": \"\",\n        \"description\": \"\"\n      }\n    },\n    {\n      \"column\": \"wind\",\n      \"properties\": {\n        \"dtype\": \"number\",\n        \"std\": 5,\n        \"min\": 5,\n        \"max\": 19,\n        \"num_unique_values\": 5,\n        \"samples\": [\n          10,\n          19,\n          5\n        ],\n        \"semantic_type\": \"\",\n        \"description\": \"\"\n      }\n    }\n  ]\n}"
            }
          },
          "metadata": {},
          "execution_count": 27
        }
      ]
    },
    {
      "cell_type": "markdown",
      "metadata": {
        "id": "QKr-mCWvhL5f"
      },
      "source": [
        "Expected Output\n",
        "```\n",
        "    humidity  temperature  wind\n",
        "0\t20\t      26\t      7\n",
        "1\t50\t      16\t      10\n",
        "2\t100\t     27\t      5\n",
        "3\t90\t      17\t      15\n",
        "4\t30\t      29\t      19\n",
        "```"
      ]
    }
  ]
}